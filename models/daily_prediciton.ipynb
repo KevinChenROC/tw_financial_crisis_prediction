{
 "cells": [
  {
   "cell_type": "code",
   "execution_count": 1,
   "metadata": {},
   "outputs": [
    {
     "name": "stderr",
     "output_type": "stream",
     "text": [
      "Using TensorFlow backend.\n"
     ]
    }
   ],
   "source": [
    "import pandas as pd\n",
    "import numpy as np\n",
    "from keras.models import load_model\n",
    "\n",
    "import params"
   ]
  },
  {
   "cell_type": "code",
   "execution_count": 2,
   "metadata": {},
   "outputs": [],
   "source": [
    "#load model and prepare up-to_date data\n",
    "dataset = pd.read_csv(\"../datasets/data_for_models/dataset_1996-01-01_2019-05-01.csv\",\n",
    "                           header=0, parse_dates=[0], index_col=0)\n",
    "\n",
    "model = load_model(params.BEST_MODEL_PATH)"
   ]
  },
  {
   "cell_type": "code",
   "execution_count": 7,
   "metadata": {},
   "outputs": [],
   "source": [
    "def generate_samples_for_prediction(data, lookback, step, rows):\n",
    "    samples = np.zeros((len(rows), lookback // step, (data.shape[-1])))\n",
    "\n",
    "    for j, row in enumerate(rows):\n",
    "        indices = range(row - lookback + 1, row + 1, step)\n",
    "        samples[j] = data[indices]\n",
    "    return samples"
   ]
  },
  {
   "cell_type": "code",
   "execution_count": 8,
   "metadata": {},
   "outputs": [],
   "source": [
    "samples = samples_for_prediction(dataset.to_numpy(),\n",
    "                                        params.LOOKBACK, \n",
    "                                        params.STEP,\n",
    "                                        range(len(dataset)-params.LAST_N_SEQUENCE, len(dataset)))\n",
    "\n",
    "assert(np.all(dataset[-params.LAST_N_SEQUENCE:].to_numpy() == samples[-1][-params.LAST_N_SEQUENCE:]))"
   ]
  },
  {
   "cell_type": "code",
   "execution_count": 9,
   "metadata": {},
   "outputs": [
    {
     "data": {
      "text/plain": [
       "array([[0.24922499],\n",
       "       [0.2565073 ],\n",
       "       [0.22526811]], dtype=float32)"
      ]
     },
     "execution_count": 9,
     "metadata": {},
     "output_type": "execute_result"
    }
   ],
   "source": [
    "model.predict(samples)"
   ]
  }
 ],
 "metadata": {
  "kernelspec": {
   "display_name": "Python 3",
   "language": "python",
   "name": "python3"
  },
  "language_info": {
   "codemirror_mode": {
    "name": "ipython",
    "version": 3
   },
   "file_extension": ".py",
   "mimetype": "text/x-python",
   "name": "python",
   "nbconvert_exporter": "python",
   "pygments_lexer": "ipython3",
   "version": "3.6.8"
  }
 },
 "nbformat": 4,
 "nbformat_minor": 2
}

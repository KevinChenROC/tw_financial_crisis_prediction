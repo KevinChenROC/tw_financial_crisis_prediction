{
 "cells": [
  {
   "cell_type": "code",
   "execution_count": 4,
   "metadata": {},
   "outputs": [],
   "source": [
    "import pandas as pd\n",
    "import numpy as np\n",
    "from keras import Input,backend\n",
    "from keras.models import Model\n",
    "from keras.layers import *\n",
    "from keras.callbacks import Callback\n",
    "from sklearn.metrics import confusion_matrix, f1_score, precision_score, recall_score, accuracy_score, matthews_corrcoef"
   ]
  },
  {
   "cell_type": "code",
   "execution_count": 5,
   "metadata": {},
   "outputs": [],
   "source": [
    "dataset = pd.read_csv(\"../datasets/train_test_data.csv\",\n",
    "                           header=0, parse_dates=[0], index_col=0)\n",
    "label_strt_index = -1\n",
    "data, labels  = dataset.iloc[:,:label_strt_index], dataset.iloc[:,label_strt_index:]"
   ]
  },
  {
   "cell_type": "code",
   "execution_count": 6,
   "metadata": {},
   "outputs": [],
   "source": [
    "def print_metric(y_true, y_pred):\n",
    "    print('F1 score: %f' % f1_score(y_true, y_pred))\n",
    "    print('precision score: %f' % precision_score(y_true, y_pred))\n",
    "    print('recall score: %f' % recall_score(y_true, y_pred))\n",
    "    print('accuracy score: %f' % accuracy_score(y_true, y_pred))\n",
    "    print('matthews_corrcoef: %f' % matthews_corrcoef(y_true, y_pred))\n",
    "    print('\\nConfusion matrix:')\n",
    "    print(confusion_matrix(y_true, y_pred, labels=[0,1]))"
   ]
  },
  {
   "cell_type": "code",
   "execution_count": 7,
   "metadata": {},
   "outputs": [],
   "source": [
    "def train_dev_test_split(dataset, train_ratio, dev_ratio, test_ratio):\n",
    "    size_of_data = dataset.shape[0]\n",
    "    train_data, temp = dataset[:int(size_of_data* train_ratio)], dataset[int(size_of_data* train_ratio):] \n",
    " \n",
    "    #split for dev and test sets\n",
    "    dev_split_ratio = dev_ratio/(dev_ratio+test_ratio)\n",
    "    dev_data, test_data = temp[:int(len(temp)*dev_split_ratio)], temp[int(len(temp)*dev_split_ratio):]\n",
    "    \n",
    "    return train_data, dev_data, test_data"
   ]
  },
  {
   "cell_type": "code",
   "execution_count": 8,
   "metadata": {},
   "outputs": [],
   "source": [
    "def predict_classes(model, X):\n",
    "    \"\"\"\n",
    "    Input\n",
    "        model: keras model\n",
    "        X: input data\n",
    "\n",
    "    Output\n",
    "        2D numpy array of shape (X.shape[0], 1)\n",
    "    \"\"\"\n",
    "    y_pred = model.predict(X)\n",
    "    \n",
    "    #convert probs to binary classes\n",
    "    y_pred = np.where(y_pred > 0.5, 1, 0)\n",
    "    \n",
    "    return y_pred"
   ]
  },
  {
   "cell_type": "code",
   "execution_count": 9,
   "metadata": {},
   "outputs": [],
   "source": [
    "def print_unique_counts(x):\n",
    "    unique, counts = np.unique(x, return_counts=True)\n",
    "    print(np.asarray((unique, counts)).T)\n"
   ]
  },
  {
   "cell_type": "code",
   "execution_count": 10,
   "metadata": {},
   "outputs": [],
   "source": [
    "#Split data\n",
    "DEV_RATIO, TEST_RATIO = 0.15, 0.15\n",
    "TRAIN_RATIO = 1-DEV_RATIO-TEST_RATIO\n",
    "\n",
    "train_data, dev_data, test_data = train_dev_test_split(data, TRAIN_RATIO, DEV_RATIO, TEST_RATIO)\n",
    "train_label, dev_label, test_label = train_dev_test_split(labels, TRAIN_RATIO, DEV_RATIO, TEST_RATIO)"
   ]
  },
  {
   "cell_type": "code",
   "execution_count": 11,
   "metadata": {},
   "outputs": [
    {
     "name": "stdout",
     "output_type": "stream",
     "text": [
      "_________________________________________________________________\n",
      "Layer (type)                 Output Shape              Param #   \n",
      "=================================================================\n",
      "input_1 (InputLayer)         (None, 169)               0         \n",
      "_________________________________________________________________\n",
      "dense_1 (Dense)              (None, 32)                5440      \n",
      "_________________________________________________________________\n",
      "dense_2 (Dense)              (None, 16)                528       \n",
      "_________________________________________________________________\n",
      "dense_3 (Dense)              (None, 1)                 17        \n",
      "=================================================================\n",
      "Total params: 5,985\n",
      "Trainable params: 5,985\n",
      "Non-trainable params: 0\n",
      "_________________________________________________________________\n",
      "None\n",
      "Epoch 1/10\n",
      "3954/3954 [==============================] - 1s 182us/step - loss: 0.5641\n",
      "Epoch 2/10\n",
      "3954/3954 [==============================] - 0s 106us/step - loss: 0.5532\n",
      "Epoch 3/10\n",
      "3954/3954 [==============================] - 0s 109us/step - loss: 0.5455\n",
      "Epoch 4/10\n",
      "3954/3954 [==============================] - 0s 100us/step - loss: 0.5402\n",
      "Epoch 5/10\n",
      "3954/3954 [==============================] - 0s 89us/step - loss: 0.5332\n",
      "Epoch 6/10\n",
      "3954/3954 [==============================] - 0s 88us/step - loss: 0.5296\n",
      "Epoch 7/10\n",
      "3954/3954 [==============================] - 0s 76us/step - loss: 0.5197\n",
      "Epoch 8/10\n",
      "3954/3954 [==============================] - 0s 76us/step - loss: 0.5138\n",
      "Epoch 9/10\n",
      "3954/3954 [==============================] - 0s 70us/step - loss: 0.5131\n",
      "Epoch 10/10\n",
      "3954/3954 [==============================] - 0s 92us/step - loss: 0.5121\n"
     ]
    },
    {
     "data": {
      "text/plain": [
       "<keras.callbacks.History at 0x7f400c246d68>"
      ]
     },
     "execution_count": 11,
     "metadata": {},
     "output_type": "execute_result"
    }
   ],
   "source": [
    "input_dim = train_data.shape[1]\n",
    "\n",
    "\n",
    "#Build layers\n",
    "econ_indicator_input = Input(shape=(input_dim,))\n",
    "x = Dense(32,activation='relu')(econ_indicator_input)\n",
    "x = Dense(16,activation='relu')(x)\n",
    "\n",
    "#output activations\n",
    "crisis_in_next_N_days = [Dense(1, activation='sigmoid')(x)]\n",
    "\n",
    "#compile the model\n",
    "model = Model(econ_indicator_input, crisis_in_next_N_days)\n",
    "model.compile(optimizer='adam', loss='binary_crossentropy')\n",
    "\n",
    "\n",
    "print(model.summary())\n",
    "#fit the model\n",
    "\n",
    "model.fit(train_data, train_label, epochs=10, batch_size=64, verbose=1)\n"
   ]
  },
  {
   "cell_type": "code",
   "execution_count": 12,
   "metadata": {
    "scrolled": false
   },
   "outputs": [
    {
     "name": "stdout",
     "output_type": "stream",
     "text": [
      "F1 score: 0.194660\n",
      "precision score: 0.638418\n",
      "recall score: 0.114837\n",
      "accuracy score: 0.763531\n",
      "matthews_corrcoef: 0.195049\n",
      "\n",
      "Confusion matrix:\n",
      "[[2906   64]\n",
      " [ 871  113]]\n"
     ]
    }
   ],
   "source": [
    "#Make predictions for train set\n",
    "y_pred = predict_classes(model,train_data)\n",
    "print_metric(train_label, y_pred)"
   ]
  },
  {
   "cell_type": "code",
   "execution_count": 13,
   "metadata": {
    "scrolled": true
   },
   "outputs": [
    {
     "name": "stdout",
     "output_type": "stream",
     "text": [
      "F1 score: 0.000000\n",
      "precision score: 0.000000\n",
      "recall score: 0.000000\n",
      "accuracy score: 0.981132\n",
      "matthews_corrcoef: -0.008829\n",
      "\n",
      "Confusion matrix:\n",
      "[[832   5]\n",
      " [ 11   0]]\n"
     ]
    }
   ],
   "source": [
    "#Make predictions from dev set\n",
    "y_pred = predict_classes(model,dev_data)\n",
    "print_metric(dev_label, y_pred)\n"
   ]
  },
  {
   "cell_type": "code",
   "execution_count": 14,
   "metadata": {},
   "outputs": [
    {
     "name": "stdout",
     "output_type": "stream",
     "text": [
      "F1 score: 0.000000\n",
      "precision score: 0.000000\n",
      "recall score: 0.000000\n",
      "accuracy score: 0.964623\n",
      "matthews_corrcoef: 0.000000\n",
      "\n",
      "Confusion matrix:\n",
      "[[818   0]\n",
      " [ 30   0]]\n"
     ]
    },
    {
     "name": "stderr",
     "output_type": "stream",
     "text": [
      "/home/kevin/anaconda2/envs/py36/lib/python3.6/site-packages/sklearn/metrics/classification.py:1437: UndefinedMetricWarning: F-score is ill-defined and being set to 0.0 due to no predicted samples.\n",
      "  'precision', 'predicted', average, warn_for)\n",
      "/home/kevin/anaconda2/envs/py36/lib/python3.6/site-packages/sklearn/metrics/classification.py:1437: UndefinedMetricWarning: Precision is ill-defined and being set to 0.0 due to no predicted samples.\n",
      "  'precision', 'predicted', average, warn_for)\n",
      "/home/kevin/anaconda2/envs/py36/lib/python3.6/site-packages/sklearn/metrics/classification.py:872: RuntimeWarning: invalid value encountered in double_scalars\n",
      "  mcc = cov_ytyp / np.sqrt(cov_ytyt * cov_ypyp)\n"
     ]
    }
   ],
   "source": [
    "#Make predictions for test set\n",
    "y_pred = predict_classes(model,test_data)\n",
    "print_metric(test_label, y_pred)"
   ]
  },
  {
   "cell_type": "code",
   "execution_count": null,
   "metadata": {},
   "outputs": [],
   "source": []
  }
 ],
 "metadata": {
  "kernelspec": {
   "display_name": "Python 3",
   "language": "python",
   "name": "python3"
  },
  "language_info": {
   "codemirror_mode": {
    "name": "ipython",
    "version": 3
   },
   "file_extension": ".py",
   "mimetype": "text/x-python",
   "name": "python",
   "nbconvert_exporter": "python",
   "pygments_lexer": "ipython3",
   "version": "3.6.8"
  }
 },
 "nbformat": 4,
 "nbformat_minor": 2
}

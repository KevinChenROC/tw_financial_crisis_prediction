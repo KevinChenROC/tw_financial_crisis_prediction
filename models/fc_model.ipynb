{
 "cells": [
  {
   "cell_type": "code",
   "execution_count": 1,
   "metadata": {},
   "outputs": [
    {
     "name": "stderr",
     "output_type": "stream",
     "text": [
      "Using TensorFlow backend.\n"
     ]
    }
   ],
   "source": [
    "import math\n",
    "import collections\n",
    "\n",
    "import pandas as pd\n",
    "\n",
    "from keras import regularizers\n",
    "from keras.models import Model, Sequential\n",
    "from keras.layers import *\n",
    "\n",
    "import params\n",
    "from utils.sequence_data import data_to_sequences_and_labels\n",
    "from utils.metrics import print_report_for_binary_classfier\n",
    "from utils.preprocessing import probs_to_binary_classes\n",
    "from utils.hyperparams import hyperparams_search\n",
    "from utils.plot import plot_train_validation_metric"
   ]
  },
  {
   "cell_type": "code",
   "execution_count": 2,
   "metadata": {},
   "outputs": [],
   "source": [
    "dataset = pd.read_csv(\"../datasets/data_for_models/dataset_1996-01-01_2019-08-22.csv\",\n",
    "                           header=0, parse_dates=[0], index_col=0)\n",
    "\n",
    "input_shape = (params.LOOKBACK//params.STEP, dataset.shape[-1] )"
   ]
  },
  {
   "cell_type": "code",
   "execution_count": 3,
   "metadata": {},
   "outputs": [],
   "source": [
    "#params for generating sequences \n",
    "train_max_idx = math.ceil(len(dataset)*params.TRAIN_RATIO)\n",
    "val_max_idx = math.ceil(len(dataset)*(params.TRAIN_RATIO+params.VAL_RATIO))\n",
    "label_index = len(dataset.columns) -1\n",
    "\n",
    "\n",
    "# prepare data\n",
    "train_X, train_Y = data_to_sequences_and_labels(dataset.to_numpy(), params.LOOKBACK, \n",
    "                                                params.STEP, \n",
    "                                                0, train_max_idx, \n",
    "                                                params.DELAY,\n",
    "                                                label_index) \n",
    "val_X, val_Y = data_to_sequences_and_labels(dataset.to_numpy(), params.LOOKBACK, \n",
    "                                                params.STEP, \n",
    "                                                train_max_idx+1, val_max_idx, \n",
    "                                                params.DELAY,\n",
    "                                                label_index)\n",
    "test_X, test_Y = data_to_sequences_and_labels(dataset.to_numpy(), params.LOOKBACK, \n",
    "                                                params.STEP, \n",
    "                                                val_max_idx+1, None, \n",
    "                                                params.DELAY,\n",
    "                                                label_index)"
   ]
  },
  {
   "cell_type": "code",
   "execution_count": 6,
   "metadata": {},
   "outputs": [],
   "source": [
    "def fc_model(hidden_unit, n_layer, l2_weight, input_shape):\n",
    "    model = Sequential()\n",
    "    model.add(Flatten(input_shape=input_shape))\n",
    "    \n",
    "    for _ in range(n_layer):\n",
    "        model.add(Dense(hidden_unit, activation='relu', kernel_regularizer=regularizers.l2(l2_weight)))\n",
    "        \n",
    "    model.add(Dense(1, activation='sigmoid'))\n",
    "    model.compile(optimizer='adam', loss='binary_crossentropy', metrics=['accuracy'])\n",
    "    return model"
   ]
  },
  {
   "cell_type": "code",
   "execution_count": 10,
   "metadata": {
    "scrolled": true
   },
   "outputs": [
    {
     "name": "stdout",
     "output_type": "stream",
     "text": [
      "cur_avg_loss = 0.2181021807441732, cur_params = {'epochs': 1413, 'n_layer': 2, 'hidden_unti': 32, 'l2_weight': 0}\n",
      "cur_avg_loss = 0.13490798262713563, cur_params = {'epochs': 150, 'n_layer': 2, 'hidden_unti': 64, 'l2_weight': 0}\n",
      "cur_avg_loss = 0.21549215026497298, cur_params = {'epochs': 185, 'n_layer': 3, 'hidden_unti': 32, 'l2_weight': 0}\n",
      "cur_avg_loss = 0.23793167314033192, cur_params = {'epochs': 37, 'n_layer': 3, 'hidden_unti': 64, 'l2_weight': 0}\n",
      "cur_avg_loss = 0.2437051020322597, cur_params = {'epochs': 48, 'n_layer': 2, 'hidden_unti': 32, 'l2_weight': 0.0001}\n",
      "cur_avg_loss = 0.23685802913751522, cur_params = {'epochs': 139, 'n_layer': 2, 'hidden_unti': 64, 'l2_weight': 0.0001}\n",
      "cur_avg_loss = 0.16981264337719315, cur_params = {'epochs': 260, 'n_layer': 3, 'hidden_unti': 32, 'l2_weight': 0.0001}\n",
      "cur_avg_loss = 0.22610499770977094, cur_params = {'epochs': 167, 'n_layer': 3, 'hidden_unti': 64, 'l2_weight': 0.0001}\n",
      "cur_avg_loss = 0.2766029347003354, cur_params = {'epochs': 418, 'n_layer': 2, 'hidden_unti': 32, 'l2_weight': 0.001}\n",
      "cur_avg_loss = 0.2551502504360804, cur_params = {'epochs': 131, 'n_layer': 2, 'hidden_unti': 64, 'l2_weight': 0.001}\n",
      "cur_avg_loss = 0.270347366251244, cur_params = {'epochs': 1121, 'n_layer': 3, 'hidden_unti': 32, 'l2_weight': 0.001}\n",
      "cur_avg_loss = 0.2678518039779778, cur_params = {'epochs': 359, 'n_layer': 3, 'hidden_unti': 64, 'l2_weight': 0.001}\n",
      "cur_avg_loss = 0.27578569540238956, cur_params = {'epochs': 484, 'n_layer': 2, 'hidden_unti': 32, 'l2_weight': 0.01}\n",
      "cur_avg_loss = 0.28031083066394485, cur_params = {'epochs': 225, 'n_layer': 2, 'hidden_unti': 64, 'l2_weight': 0.01}\n",
      "cur_avg_loss = 0.27448263132309325, cur_params = {'epochs': 1393, 'n_layer': 3, 'hidden_unti': 32, 'l2_weight': 0.01}\n",
      "cur_avg_loss = 0.28439904069498956, cur_params = {'epochs': 252, 'n_layer': 3, 'hidden_unti': 64, 'l2_weight': 0.01}\n",
      "\n",
      "best params = {'epochs': 150, 'n_layer': 2, 'hidden_unti': 64, 'l2_weight': 0}\n"
     ]
    }
   ],
   "source": [
    "best_params = hyperparams_search(model_func=fc_model, \n",
    "                                 input_shape=input_shape,\n",
    "                                 train_X=train_X, train_Y=train_Y, \n",
    "                                 val_X=val_X, val_Y=val_Y,\n",
    "                                 num_epoch=2000,\n",
    "                                 hidden_units=[32,64], \n",
    "                                 n_layers=[2,3], \n",
    "                                 l2_weights=[0,0.0001,0.001, 0.01],\n",
    "                                 is_verbose=0)\n",
    "print(\"\\nbest params = {0}\".format(best_params))"
   ]
  },
  {
   "cell_type": "markdown",
   "metadata": {},
   "source": [
    "# best result \n",
    "best_params = {'epochs': 1048, 'n_layer': 3, 'hidden_unti': 32, 'l2_weight': 0}"
   ]
  },
  {
   "cell_type": "code",
   "execution_count": 11,
   "metadata": {},
   "outputs": [
    {
     "name": "stdout",
     "output_type": "stream",
     "text": [
      "Train on 4033 samples, validate on 853 samples\n",
      "Epoch 1/150\n",
      "4033/4033 [==============================] - 2s 419us/step - loss: 0.5322 - acc: 0.7575 - val_loss: 0.4441 - val_acc: 0.9039\n",
      "Epoch 2/150\n",
      "4033/4033 [==============================] - 1s 134us/step - loss: 0.4951 - acc: 0.7711 - val_loss: 0.2248 - val_acc: 0.9824\n",
      "Epoch 3/150\n",
      "4033/4033 [==============================] - 1s 134us/step - loss: 0.4931 - acc: 0.7776 - val_loss: 0.2351 - val_acc: 0.9766\n",
      "Epoch 4/150\n",
      "4033/4033 [==============================] - 1s 134us/step - loss: 0.4777 - acc: 0.7781 - val_loss: 0.1772 - val_acc: 0.9836\n",
      "Epoch 5/150\n",
      "4033/4033 [==============================] - 1s 131us/step - loss: 0.4776 - acc: 0.7783 - val_loss: 0.2492 - val_acc: 0.9449\n",
      "Epoch 6/150\n",
      "4033/4033 [==============================] - 1s 134us/step - loss: 0.4709 - acc: 0.7791 - val_loss: 0.2552 - val_acc: 0.9238\n",
      "Epoch 7/150\n",
      "4033/4033 [==============================] - 1s 135us/step - loss: 0.4571 - acc: 0.7830 - val_loss: 0.2027 - val_acc: 0.9484\n",
      "Epoch 8/150\n",
      "4033/4033 [==============================] - 1s 144us/step - loss: 0.4538 - acc: 0.7870 - val_loss: 0.1871 - val_acc: 0.9578\n",
      "Epoch 9/150\n",
      "4033/4033 [==============================] - 1s 134us/step - loss: 0.4492 - acc: 0.7895 - val_loss: 0.1985 - val_acc: 0.9414\n",
      "Epoch 10/150\n",
      "4033/4033 [==============================] - 1s 135us/step - loss: 0.4391 - acc: 0.7944 - val_loss: 0.2672 - val_acc: 0.9097\n",
      "Epoch 11/150\n",
      "4033/4033 [==============================] - 1s 132us/step - loss: 0.4361 - acc: 0.8021 - val_loss: 0.2205 - val_acc: 0.9367\n",
      "Epoch 12/150\n",
      "4033/4033 [==============================] - 1s 132us/step - loss: 0.4243 - acc: 0.8034 - val_loss: 0.3124 - val_acc: 0.8664\n",
      "Epoch 13/150\n",
      "4033/4033 [==============================] - 1s 134us/step - loss: 0.4238 - acc: 0.8019 - val_loss: 0.2099 - val_acc: 0.9625\n",
      "Epoch 14/150\n",
      "4033/4033 [==============================] - 1s 134us/step - loss: 0.4162 - acc: 0.8051 - val_loss: 0.2611 - val_acc: 0.9859\n",
      "Epoch 15/150\n",
      "4033/4033 [==============================] - 1s 133us/step - loss: 0.4491 - acc: 0.7882 - val_loss: 0.1757 - val_acc: 0.9871\n",
      "Epoch 16/150\n",
      "4033/4033 [==============================] - 1s 130us/step - loss: 0.4138 - acc: 0.8123 - val_loss: 0.1966 - val_acc: 0.9672\n",
      "Epoch 17/150\n",
      "4033/4033 [==============================] - 1s 135us/step - loss: 0.4063 - acc: 0.8205 - val_loss: 0.3271 - val_acc: 0.8535\n",
      "Epoch 18/150\n",
      "4033/4033 [==============================] - 1s 137us/step - loss: 0.3956 - acc: 0.8212 - val_loss: 0.1849 - val_acc: 0.9590\n",
      "Epoch 19/150\n",
      "4033/4033 [==============================] - 1s 133us/step - loss: 0.3919 - acc: 0.8254 - val_loss: 0.2497 - val_acc: 0.9871\n",
      "Epoch 20/150\n",
      "4033/4033 [==============================] - 1s 132us/step - loss: 0.3892 - acc: 0.8274 - val_loss: 0.3632 - val_acc: 0.7831\n",
      "Epoch 21/150\n",
      "4033/4033 [==============================] - 1s 135us/step - loss: 0.3777 - acc: 0.8334 - val_loss: 0.2156 - val_acc: 0.9543\n",
      "Epoch 22/150\n",
      "4033/4033 [==============================] - 1s 132us/step - loss: 0.3837 - acc: 0.8299 - val_loss: 0.1432 - val_acc: 0.9801\n",
      "Epoch 23/150\n",
      "4033/4033 [==============================] - 1s 132us/step - loss: 0.3766 - acc: 0.8306 - val_loss: 0.2254 - val_acc: 0.9613\n",
      "Epoch 24/150\n",
      "4033/4033 [==============================] - 1s 132us/step - loss: 0.3704 - acc: 0.8368 - val_loss: 0.3322 - val_acc: 0.7995\n",
      "Epoch 25/150\n",
      "4033/4033 [==============================] - 1s 132us/step - loss: 0.3674 - acc: 0.8349 - val_loss: 0.2634 - val_acc: 0.8535\n",
      "Epoch 26/150\n",
      "4033/4033 [==============================] - 1s 132us/step - loss: 0.4354 - acc: 0.7952 - val_loss: 0.2590 - val_acc: 0.9672\n",
      "Epoch 27/150\n",
      "4033/4033 [==============================] - 1s 134us/step - loss: 0.4104 - acc: 0.8006 - val_loss: 0.1221 - val_acc: 0.9871\n",
      "Epoch 28/150\n",
      "4033/4033 [==============================] - 1s 137us/step - loss: 0.3957 - acc: 0.8111 - val_loss: 0.2185 - val_acc: 0.9496\n",
      "Epoch 29/150\n",
      "4033/4033 [==============================] - 1s 132us/step - loss: 0.3803 - acc: 0.8282 - val_loss: 0.4010 - val_acc: 0.7796\n",
      "Epoch 30/150\n",
      "4033/4033 [==============================] - 1s 135us/step - loss: 0.3775 - acc: 0.8366 - val_loss: 0.2342 - val_acc: 0.9812\n",
      "Epoch 31/150\n",
      "4033/4033 [==============================] - 1s 136us/step - loss: 0.3727 - acc: 0.8396 - val_loss: 0.3009 - val_acc: 0.8488\n",
      "Epoch 32/150\n",
      "4033/4033 [==============================] - 1s 130us/step - loss: 0.3608 - acc: 0.8483 - val_loss: 0.2147 - val_acc: 0.9191\n",
      "Epoch 33/150\n",
      "4033/4033 [==============================] - 1s 133us/step - loss: 0.3573 - acc: 0.8470 - val_loss: 0.2872 - val_acc: 0.8429\n",
      "Epoch 34/150\n",
      "4033/4033 [==============================] - 1s 133us/step - loss: 0.3504 - acc: 0.8525 - val_loss: 0.3062 - val_acc: 0.8312\n",
      "Epoch 35/150\n",
      "4033/4033 [==============================] - 1s 130us/step - loss: 0.3410 - acc: 0.8579 - val_loss: 0.4164 - val_acc: 0.8124\n",
      "Epoch 36/150\n",
      "4033/4033 [==============================] - 1s 134us/step - loss: 0.3577 - acc: 0.8455 - val_loss: 0.2443 - val_acc: 0.9308\n",
      "Epoch 37/150\n",
      "4033/4033 [==============================] - 1s 137us/step - loss: 0.3546 - acc: 0.8492 - val_loss: 0.1524 - val_acc: 0.9320\n",
      "Epoch 38/150\n",
      "4033/4033 [==============================] - 1s 135us/step - loss: 0.3554 - acc: 0.8495 - val_loss: 0.2988 - val_acc: 0.8546\n",
      "Epoch 39/150\n",
      "4033/4033 [==============================] - 1s 137us/step - loss: 0.3380 - acc: 0.8606 - val_loss: 0.1559 - val_acc: 0.9308\n",
      "Epoch 40/150\n",
      "4033/4033 [==============================] - 1s 133us/step - loss: 0.3856 - acc: 0.8302 - val_loss: 0.4273 - val_acc: 0.7984\n",
      "Epoch 41/150\n",
      "4033/4033 [==============================] - 1s 135us/step - loss: 0.3731 - acc: 0.8381 - val_loss: 0.1999 - val_acc: 0.8957\n",
      "Epoch 42/150\n",
      "4033/4033 [==============================] - 1s 134us/step - loss: 0.3438 - acc: 0.8522 - val_loss: 0.6018 - val_acc: 0.5920\n",
      "Epoch 43/150\n",
      "4033/4033 [==============================] - 1s 134us/step - loss: 0.4409 - acc: 0.7818 - val_loss: 0.2258 - val_acc: 0.9367\n",
      "Epoch 44/150\n",
      "4033/4033 [==============================] - 1s 132us/step - loss: 0.3940 - acc: 0.8262 - val_loss: 0.1860 - val_acc: 0.9683\n",
      "Epoch 45/150\n",
      "4033/4033 [==============================] - 1s 132us/step - loss: 0.3762 - acc: 0.8294 - val_loss: 0.3212 - val_acc: 0.8628\n",
      "Epoch 46/150\n",
      "4033/4033 [==============================] - 1s 135us/step - loss: 0.3685 - acc: 0.8423 - val_loss: 0.1548 - val_acc: 0.9730\n",
      "Epoch 47/150\n",
      "4033/4033 [==============================] - 1s 137us/step - loss: 0.3692 - acc: 0.8329 - val_loss: 0.1958 - val_acc: 0.9226\n",
      "Epoch 48/150\n",
      "4033/4033 [==============================] - 1s 133us/step - loss: 0.3551 - acc: 0.8485 - val_loss: 0.2284 - val_acc: 0.8957\n",
      "Epoch 49/150\n",
      "4033/4033 [==============================] - 1s 133us/step - loss: 0.3567 - acc: 0.8497 - val_loss: 0.1703 - val_acc: 0.9543\n",
      "Epoch 50/150\n",
      "4033/4033 [==============================] - 1s 135us/step - loss: 0.3500 - acc: 0.8557 - val_loss: 0.1826 - val_acc: 0.9472\n",
      "Epoch 51/150\n",
      "4033/4033 [==============================] - 1s 132us/step - loss: 0.3757 - acc: 0.8356 - val_loss: 0.3121 - val_acc: 0.8523\n",
      "Epoch 52/150\n",
      "4033/4033 [==============================] - 1s 134us/step - loss: 0.3429 - acc: 0.8547 - val_loss: 0.1549 - val_acc: 0.9543\n",
      "Epoch 53/150\n",
      "4033/4033 [==============================] - 1s 134us/step - loss: 0.3317 - acc: 0.8602 - val_loss: 0.2158 - val_acc: 0.8957\n",
      "Epoch 54/150\n",
      "4033/4033 [==============================] - 1s 146us/step - loss: 0.3358 - acc: 0.8579 - val_loss: 0.1837 - val_acc: 0.9484\n",
      "Epoch 55/150\n",
      "4033/4033 [==============================] - 1s 133us/step - loss: 0.3287 - acc: 0.8609 - val_loss: 0.3262 - val_acc: 0.8148\n",
      "Epoch 56/150\n",
      "4033/4033 [==============================] - 1s 137us/step - loss: 0.3201 - acc: 0.8656 - val_loss: 0.3451 - val_acc: 0.7984\n",
      "Epoch 57/150\n",
      "4033/4033 [==============================] - 1s 132us/step - loss: 0.3361 - acc: 0.8579 - val_loss: 0.1619 - val_acc: 0.9625\n",
      "Epoch 58/150\n",
      "4033/4033 [==============================] - 1s 130us/step - loss: 0.3427 - acc: 0.8517 - val_loss: 0.2220 - val_acc: 0.9074\n",
      "Epoch 59/150\n",
      "4033/4033 [==============================] - 1s 136us/step - loss: 0.3201 - acc: 0.8688 - val_loss: 0.1851 - val_acc: 0.9461\n",
      "Epoch 60/150\n"
     ]
    },
    {
     "name": "stdout",
     "output_type": "stream",
     "text": [
      "4033/4033 [==============================] - 1s 136us/step - loss: 0.3147 - acc: 0.8688 - val_loss: 0.2402 - val_acc: 0.8875\n",
      "Epoch 61/150\n",
      "4033/4033 [==============================] - 1s 134us/step - loss: 0.3200 - acc: 0.8654 - val_loss: 0.2949 - val_acc: 0.8359\n",
      "Epoch 62/150\n",
      "4033/4033 [==============================] - 1s 133us/step - loss: 0.3149 - acc: 0.8726 - val_loss: 0.3345 - val_acc: 0.8218\n",
      "Epoch 63/150\n",
      "4033/4033 [==============================] - 1s 134us/step - loss: 0.3096 - acc: 0.8678 - val_loss: 0.2504 - val_acc: 0.8722\n",
      "Epoch 64/150\n",
      "4033/4033 [==============================] - 1s 132us/step - loss: 0.3065 - acc: 0.8780 - val_loss: 0.1983 - val_acc: 0.9097\n",
      "Epoch 65/150\n",
      "4033/4033 [==============================] - 1s 132us/step - loss: 0.3162 - acc: 0.8651 - val_loss: 0.2949 - val_acc: 0.8394\n",
      "Epoch 66/150\n",
      "4033/4033 [==============================] - 1s 132us/step - loss: 0.2924 - acc: 0.8852 - val_loss: 0.2652 - val_acc: 0.8675\n",
      "Epoch 67/150\n",
      "4033/4033 [==============================] - 1s 135us/step - loss: 0.3053 - acc: 0.8778 - val_loss: 0.2271 - val_acc: 0.9156\n",
      "Epoch 68/150\n",
      "4033/4033 [==============================] - 1s 131us/step - loss: 0.2944 - acc: 0.8797 - val_loss: 0.2971 - val_acc: 0.8300\n",
      "Epoch 69/150\n",
      "4033/4033 [==============================] - 1s 132us/step - loss: 0.2917 - acc: 0.8800 - val_loss: 0.5203 - val_acc: 0.7245\n",
      "Epoch 70/150\n",
      "4033/4033 [==============================] - 1s 138us/step - loss: 0.3077 - acc: 0.8763 - val_loss: 0.2639 - val_acc: 0.8921\n",
      "Epoch 71/150\n",
      "4033/4033 [==============================] - 1s 133us/step - loss: 0.2926 - acc: 0.8780 - val_loss: 0.5500 - val_acc: 0.7245\n",
      "Epoch 72/150\n",
      "4033/4033 [==============================] - 1s 135us/step - loss: 0.2828 - acc: 0.8852 - val_loss: 0.0984 - val_acc: 0.9789\n",
      "Epoch 73/150\n",
      "4033/4033 [==============================] - 1s 133us/step - loss: 0.4059 - acc: 0.8294 - val_loss: 0.3733 - val_acc: 0.8019\n",
      "Epoch 74/150\n",
      "4033/4033 [==============================] - 1s 133us/step - loss: 0.3576 - acc: 0.8468 - val_loss: 0.2731 - val_acc: 0.8488\n",
      "Epoch 75/150\n",
      "4033/4033 [==============================] - 1s 134us/step - loss: 0.3483 - acc: 0.8468 - val_loss: 0.3337 - val_acc: 0.7960\n",
      "Epoch 76/150\n",
      "4033/4033 [==============================] - 1s 132us/step - loss: 0.3410 - acc: 0.8515 - val_loss: 0.2521 - val_acc: 0.8605\n",
      "Epoch 77/150\n",
      "4033/4033 [==============================] - 1s 131us/step - loss: 0.3342 - acc: 0.8540 - val_loss: 0.5229 - val_acc: 0.7526\n",
      "Epoch 78/150\n",
      "4033/4033 [==============================] - 1s 132us/step - loss: 0.3384 - acc: 0.8510 - val_loss: 0.5006 - val_acc: 0.7081\n",
      "Epoch 79/150\n",
      "4033/4033 [==============================] - 1s 130us/step - loss: 0.3307 - acc: 0.8676 - val_loss: 0.2870 - val_acc: 0.8324\n",
      "Epoch 80/150\n",
      "4033/4033 [==============================] - 1s 136us/step - loss: 0.3231 - acc: 0.8666 - val_loss: 0.4012 - val_acc: 0.7831\n",
      "Epoch 81/150\n",
      "4033/4033 [==============================] - 1s 132us/step - loss: 0.3914 - acc: 0.8470 - val_loss: 0.3245 - val_acc: 0.7948\n",
      "Epoch 82/150\n",
      "4033/4033 [==============================] - 1s 133us/step - loss: 0.3209 - acc: 0.8599 - val_loss: 0.3039 - val_acc: 0.8183\n",
      "Epoch 83/150\n",
      "4033/4033 [==============================] - 1s 133us/step - loss: 0.3133 - acc: 0.8676 - val_loss: 0.2291 - val_acc: 0.8757\n",
      "Epoch 84/150\n",
      "4033/4033 [==============================] - 1s 136us/step - loss: 0.3684 - acc: 0.8485 - val_loss: 0.2481 - val_acc: 0.8664\n",
      "Epoch 85/150\n",
      "4033/4033 [==============================] - 1s 134us/step - loss: 0.3134 - acc: 0.8703 - val_loss: 0.4013 - val_acc: 0.7726\n",
      "Epoch 86/150\n",
      "4033/4033 [==============================] - 1s 131us/step - loss: 0.3220 - acc: 0.8641 - val_loss: 0.3252 - val_acc: 0.8159\n",
      "Epoch 87/150\n",
      "4033/4033 [==============================] - 1s 132us/step - loss: 0.3131 - acc: 0.8659 - val_loss: 0.2368 - val_acc: 0.8757\n",
      "Epoch 88/150\n",
      "4033/4033 [==============================] - 1s 133us/step - loss: 0.3058 - acc: 0.8740 - val_loss: 0.4246 - val_acc: 0.7714\n",
      "Epoch 89/150\n",
      "4033/4033 [==============================] - 1s 133us/step - loss: 0.3160 - acc: 0.8681 - val_loss: 0.3046 - val_acc: 0.8159\n",
      "Epoch 90/150\n",
      "4033/4033 [==============================] - 1s 133us/step - loss: 0.3091 - acc: 0.8673 - val_loss: 0.1659 - val_acc: 0.9367\n",
      "Epoch 91/150\n",
      "4033/4033 [==============================] - 1s 135us/step - loss: 0.3125 - acc: 0.8644 - val_loss: 0.4951 - val_acc: 0.7503\n",
      "Epoch 92/150\n",
      "4033/4033 [==============================] - 1s 130us/step - loss: 0.3009 - acc: 0.8728 - val_loss: 0.5143 - val_acc: 0.7444\n",
      "Epoch 93/150\n",
      "4033/4033 [==============================] - 1s 132us/step - loss: 0.3023 - acc: 0.8703 - val_loss: 0.4682 - val_acc: 0.7573\n",
      "Epoch 94/150\n",
      "4033/4033 [==============================] - 1s 137us/step - loss: 0.2967 - acc: 0.8753 - val_loss: 0.2137 - val_acc: 0.9039\n",
      "Epoch 95/150\n",
      "4033/4033 [==============================] - 1s 134us/step - loss: 0.3013 - acc: 0.8678 - val_loss: 0.2661 - val_acc: 0.8546\n",
      "Epoch 96/150\n",
      "4033/4033 [==============================] - 1s 136us/step - loss: 0.3019 - acc: 0.8733 - val_loss: 0.3238 - val_acc: 0.8382\n",
      "Epoch 97/150\n",
      "4033/4033 [==============================] - 1s 132us/step - loss: 0.2937 - acc: 0.8763 - val_loss: 0.2397 - val_acc: 0.8757\n",
      "Epoch 98/150\n",
      "4033/4033 [==============================] - 1s 133us/step - loss: 0.2984 - acc: 0.8748 - val_loss: 0.4028 - val_acc: 0.7808\n",
      "Epoch 99/150\n",
      "4033/4033 [==============================] - 1s 133us/step - loss: 0.2968 - acc: 0.8750 - val_loss: 0.5518 - val_acc: 0.7304\n",
      "Epoch 100/150\n",
      "4033/4033 [==============================] - 1s 140us/step - loss: 0.2948 - acc: 0.8758 - val_loss: 0.3543 - val_acc: 0.8206\n",
      "Epoch 101/150\n",
      "4033/4033 [==============================] - 1s 139us/step - loss: 0.2840 - acc: 0.8810 - val_loss: 0.1930 - val_acc: 0.9121\n",
      "Epoch 102/150\n",
      "4033/4033 [==============================] - 1s 134us/step - loss: 0.2869 - acc: 0.8820 - val_loss: 0.5180 - val_acc: 0.7597\n",
      "Epoch 103/150\n",
      "4033/4033 [==============================] - 1s 136us/step - loss: 0.2812 - acc: 0.8822 - val_loss: 0.2543 - val_acc: 0.8664\n",
      "Epoch 104/150\n",
      "4033/4033 [==============================] - 1s 134us/step - loss: 0.2933 - acc: 0.8750 - val_loss: 0.5899 - val_acc: 0.7386\n",
      "Epoch 105/150\n",
      "4033/4033 [==============================] - 1s 131us/step - loss: 0.2888 - acc: 0.8795 - val_loss: 0.3597 - val_acc: 0.7984\n",
      "Epoch 106/150\n",
      "4033/4033 [==============================] - 1s 132us/step - loss: 0.2753 - acc: 0.8847 - val_loss: 0.2568 - val_acc: 0.8628\n",
      "Epoch 107/150\n",
      "4033/4033 [==============================] - 1s 134us/step - loss: 0.2792 - acc: 0.8864 - val_loss: 0.4439 - val_acc: 0.7866\n",
      "Epoch 108/150\n",
      "4033/4033 [==============================] - 1s 134us/step - loss: 0.2721 - acc: 0.8840 - val_loss: 0.4265 - val_acc: 0.7796\n",
      "Epoch 109/150\n",
      "4033/4033 [==============================] - 1s 129us/step - loss: 0.2813 - acc: 0.8815 - val_loss: 0.2061 - val_acc: 0.9086\n",
      "Epoch 110/150\n",
      "4033/4033 [==============================] - 1s 129us/step - loss: 0.2684 - acc: 0.8909 - val_loss: 0.6520 - val_acc: 0.7351\n",
      "Epoch 111/150\n",
      "4033/4033 [==============================] - 1s 135us/step - loss: 0.2770 - acc: 0.8857 - val_loss: 0.2940 - val_acc: 0.8593\n",
      "Epoch 112/150\n",
      "4033/4033 [==============================] - 1s 135us/step - loss: 0.2659 - acc: 0.8889 - val_loss: 0.3189 - val_acc: 0.8324\n",
      "Epoch 113/150\n",
      "4033/4033 [==============================] - 1s 132us/step - loss: 0.2676 - acc: 0.8899 - val_loss: 0.4845 - val_acc: 0.7655\n",
      "Epoch 114/150\n",
      "4033/4033 [==============================] - 1s 134us/step - loss: 0.2606 - acc: 0.8919 - val_loss: 0.2707 - val_acc: 0.8699\n",
      "Epoch 115/150\n",
      "4033/4033 [==============================] - 1s 133us/step - loss: 0.2790 - acc: 0.8812 - val_loss: 0.6192 - val_acc: 0.7421\n",
      "Epoch 116/150\n",
      "4033/4033 [==============================] - 1s 133us/step - loss: 0.2690 - acc: 0.8849 - val_loss: 0.2797 - val_acc: 0.8699\n",
      "Epoch 117/150\n",
      "4033/4033 [==============================] - 1s 133us/step - loss: 0.2629 - acc: 0.8936 - val_loss: 0.3966 - val_acc: 0.8077\n",
      "Epoch 118/150\n",
      "4033/4033 [==============================] - 1s 135us/step - loss: 0.2642 - acc: 0.8899 - val_loss: 0.4108 - val_acc: 0.8101\n",
      "Epoch 119/150\n"
     ]
    },
    {
     "name": "stdout",
     "output_type": "stream",
     "text": [
      "4033/4033 [==============================] - 1s 132us/step - loss: 0.2522 - acc: 0.9006 - val_loss: 0.4462 - val_acc: 0.7960\n",
      "Epoch 120/150\n",
      "4033/4033 [==============================] - 1s 135us/step - loss: 0.2503 - acc: 0.8944 - val_loss: 0.4983 - val_acc: 0.7866\n",
      "Epoch 121/150\n",
      "4033/4033 [==============================] - 1s 131us/step - loss: 0.2598 - acc: 0.8899 - val_loss: 0.3125 - val_acc: 0.8476\n",
      "Epoch 122/150\n",
      "4033/4033 [==============================] - 1s 136us/step - loss: 0.2598 - acc: 0.8921 - val_loss: 0.2753 - val_acc: 0.8570\n",
      "Epoch 123/150\n",
      "4033/4033 [==============================] - 1s 128us/step - loss: 0.2586 - acc: 0.8914 - val_loss: 0.3975 - val_acc: 0.8124\n",
      "Epoch 124/150\n",
      "4033/4033 [==============================] - 1s 133us/step - loss: 0.2500 - acc: 0.8976 - val_loss: 0.2775 - val_acc: 0.8664\n",
      "Epoch 125/150\n",
      "4033/4033 [==============================] - 1s 133us/step - loss: 0.2475 - acc: 0.9023 - val_loss: 0.4476 - val_acc: 0.7948\n",
      "Epoch 126/150\n",
      "4033/4033 [==============================] - 1s 132us/step - loss: 0.2916 - acc: 0.8842 - val_loss: 0.4487 - val_acc: 0.8030\n",
      "Epoch 127/150\n",
      "4033/4033 [==============================] - 1s 129us/step - loss: 0.2533 - acc: 0.8934 - val_loss: 0.2586 - val_acc: 0.8699\n",
      "Epoch 128/150\n",
      "4033/4033 [==============================] - 1s 134us/step - loss: 0.2919 - acc: 0.8740 - val_loss: 0.4022 - val_acc: 0.7984\n",
      "Epoch 129/150\n",
      "4033/4033 [==============================] - 1s 132us/step - loss: 0.3018 - acc: 0.8743 - val_loss: 0.7623 - val_acc: 0.7140\n",
      "Epoch 130/150\n",
      "4033/4033 [==============================] - 1s 133us/step - loss: 0.2464 - acc: 0.8964 - val_loss: 0.4201 - val_acc: 0.8136\n",
      "Epoch 131/150\n",
      "4033/4033 [==============================] - 1s 134us/step - loss: 0.2451 - acc: 0.9030 - val_loss: 0.3873 - val_acc: 0.8230\n",
      "Epoch 132/150\n",
      "4033/4033 [==============================] - 1s 132us/step - loss: 0.2411 - acc: 0.9055 - val_loss: 0.6004 - val_acc: 0.7702\n",
      "Epoch 133/150\n",
      "4033/4033 [==============================] - 1s 134us/step - loss: 0.2414 - acc: 0.9008 - val_loss: 0.4052 - val_acc: 0.8183\n",
      "Epoch 134/150\n",
      "4033/4033 [==============================] - 1s 132us/step - loss: 0.2471 - acc: 0.8973 - val_loss: 0.5263 - val_acc: 0.7773\n",
      "Epoch 135/150\n",
      "4033/4033 [==============================] - 1s 132us/step - loss: 0.2360 - acc: 0.9021 - val_loss: 0.3520 - val_acc: 0.8335\n",
      "Epoch 136/150\n",
      "4033/4033 [==============================] - 1s 134us/step - loss: 0.2298 - acc: 0.9073 - val_loss: 0.4590 - val_acc: 0.7960\n",
      "Epoch 137/150\n",
      "4033/4033 [==============================] - 1s 131us/step - loss: 0.2363 - acc: 0.9033 - val_loss: 0.3242 - val_acc: 0.8488\n",
      "Epoch 138/150\n",
      "4033/4033 [==============================] - 1s 133us/step - loss: 0.2376 - acc: 0.9038 - val_loss: 0.2951 - val_acc: 0.8593\n",
      "Epoch 139/150\n",
      "4033/4033 [==============================] - 1s 130us/step - loss: 0.2384 - acc: 0.8996 - val_loss: 0.6500 - val_acc: 0.7667\n",
      "Epoch 140/150\n",
      "4033/4033 [==============================] - 1s 132us/step - loss: 0.2379 - acc: 0.9048 - val_loss: 0.4726 - val_acc: 0.7925\n",
      "Epoch 141/150\n",
      "4033/4033 [==============================] - 1s 133us/step - loss: 0.2294 - acc: 0.9070 - val_loss: 0.4345 - val_acc: 0.8077\n",
      "Epoch 142/150\n",
      "4033/4033 [==============================] - 1s 130us/step - loss: 0.2325 - acc: 0.9040 - val_loss: 0.4799 - val_acc: 0.7984\n",
      "Epoch 143/150\n",
      "4033/4033 [==============================] - 1s 134us/step - loss: 0.2322 - acc: 0.9060 - val_loss: 0.5087 - val_acc: 0.7984\n",
      "Epoch 144/150\n",
      "4033/4033 [==============================] - 1s 131us/step - loss: 0.2306 - acc: 0.9080 - val_loss: 0.7213 - val_acc: 0.7163\n",
      "Epoch 145/150\n",
      "4033/4033 [==============================] - 1s 136us/step - loss: 0.2317 - acc: 0.9063 - val_loss: 0.9371 - val_acc: 0.6952\n",
      "Epoch 146/150\n",
      "4033/4033 [==============================] - 1s 134us/step - loss: 0.2513 - acc: 0.8959 - val_loss: 0.5585 - val_acc: 0.7855\n",
      "Epoch 147/150\n",
      "4033/4033 [==============================] - 1s 141us/step - loss: 0.2311 - acc: 0.9073 - val_loss: 0.6919 - val_acc: 0.7374\n",
      "Epoch 148/150\n",
      "4033/4033 [==============================] - 1s 136us/step - loss: 0.5245 - acc: 0.7885 - val_loss: 0.3334 - val_acc: 0.8968\n",
      "Epoch 149/150\n",
      "4033/4033 [==============================] - 1s 129us/step - loss: 0.4568 - acc: 0.8133 - val_loss: 0.2598 - val_acc: 0.9168\n",
      "Epoch 150/150\n",
      "4033/4033 [==============================] - 1s 136us/step - loss: 0.3749 - acc: 0.8324 - val_loss: 0.2239 - val_acc: 0.9062\n"
     ]
    }
   ],
   "source": [
    "#hyperparameters\n",
    "num_epoch = best_params['epochs'] \n",
    "n_layer= best_params['n_layer'] \n",
    "hidden_unit=best_params['hidden_unti']  \n",
    "l2_weight=best_params['l2_weight']\n",
    "                    \n",
    "\n",
    "model = fc_model(hidden_unit, n_layer, l2_weight, input_shape)\n",
    "\n",
    "# #fit the model\n",
    "history = model.fit(train_X, train_Y,\n",
    "                    validation_data=(val_X, val_Y),\n",
    "                    epochs=num_epoch,\n",
    "                    verbose=1)\n",
    "\n"
   ]
  },
  {
   "cell_type": "code",
   "execution_count": 12,
   "metadata": {},
   "outputs": [
    {
     "data": {
      "image/png": "[encoded data removed]",
      "text/plain": [
       "<Figure size 1050x420 with 1 Axes>"
      ]
     },
     "metadata": {
      "needs_background": "light"
     },
     "output_type": "display_data"
    }
   ],
   "source": [
    "plot_train_validation_metric(history, 'loss', 'val_loss')"
   ]
  },
  {
   "cell_type": "markdown",
   "metadata": {},
   "source": [
    "### We have 2984 positive and 984 negtive cases. "
   ]
  },
  {
   "cell_type": "code",
   "execution_count": 13,
   "metadata": {
    "scrolled": false
   },
   "outputs": [
    {
     "name": "stdout",
     "output_type": "stream",
     "text": [
      "Counter({0.0: 3049, 1.0: 984})\n",
      "F1 score: 0.615200\n",
      "precision score: 0.748180\n",
      "recall score: 0.522358\n",
      "accuracy score: 0.840565\n",
      "matthews_corrcoef: 0.531942\n",
      "\n",
      "Confusion matrix:\n",
      "[[2876  173]\n",
      " [ 470  514]]\n"
     ]
    }
   ],
   "source": [
    "#Make predictions for train set   \n",
    "print(collections.Counter(train_Y))\n",
    "print_report_for_binary_classfier(train_Y, probs_to_binary_classes(model.predict(train_X)))"
   ]
  },
  {
   "cell_type": "code",
   "execution_count": 14,
   "metadata": {
    "scrolled": true
   },
   "outputs": [
    {
     "name": "stdout",
     "output_type": "stream",
     "text": [
      "Counter({0.0: 842, 1.0: 11})\n",
      "F1 score: 0.130435\n",
      "precision score: 0.074074\n",
      "recall score: 0.545455\n",
      "accuracy score: 0.906213\n",
      "matthews_corrcoef: 0.175642\n",
      "\n",
      "Confusion matrix:\n",
      "[[767  75]\n",
      " [  5   6]]\n"
     ]
    }
   ],
   "source": [
    "#Make predictions from dev set\n",
    "print(collections.Counter(val_Y))\n",
    "print_report_for_binary_classfier(val_Y, probs_to_binary_classes(model.predict(val_X)))"
   ]
  },
  {
   "cell_type": "code",
   "execution_count": 15,
   "metadata": {},
   "outputs": [
    {
     "name": "stdout",
     "output_type": "stream",
     "text": [
      "Counter({0.0: 811, 1.0: 30})\n",
      "F1 score: 0.323232\n",
      "precision score: 0.231884\n",
      "recall score: 0.533333\n",
      "accuracy score: 0.920333\n",
      "matthews_corrcoef: 0.316277\n",
      "\n",
      "Confusion matrix:\n",
      "[[758  53]\n",
      " [ 14  16]]\n"
     ]
    }
   ],
   "source": [
    "#Make predictions for test set\n",
    "print(collections.Counter(test_Y))\n",
    "print_report_for_binary_classfier(test_Y, probs_to_binary_classes(model.predict(test_X)))"
   ]
  },
  {
   "cell_type": "markdown",
   "metadata": {},
   "source": [
    "# Save the best model "
   ]
  },
  {
   "cell_type": "code",
   "execution_count": 16,
   "metadata": {},
   "outputs": [],
   "source": [
    "from keras.models import load_model\n",
    "\n",
    "model.save(params.BEST_FC_MODEL_PATH)  # creates a HDF5 file 'my_model.h5'"
   ]
  }
 ],
 "metadata": {
  "kernelspec": {
   "display_name": "Python 3",
   "language": "python",
   "name": "python3"
  },
  "language_info": {
   "codemirror_mode": {
    "name": "ipython",
    "version": 3
   },
   "file_extension": ".py",
   "mimetype": "text/x-python",
   "name": "python",
   "nbconvert_exporter": "python",
   "pygments_lexer": "ipython3",
   "version": "3.6.8"
  }
 },
 "nbformat": 4,
 "nbformat_minor": 2
}

{
 "cells": [
  {
   "cell_type": "code",
   "execution_count": 1,
   "metadata": {},
   "outputs": [
    {
     "name": "stderr",
     "output_type": "stream",
     "text": [
      "Using TensorFlow backend.\n"
     ]
    }
   ],
   "source": [
    "import math\n",
    "import collections\n",
    "\n",
    "import pandas as pd\n",
    "\n",
    "from keras.models import Model, Sequential\n",
    "from keras.layers import *\n",
    "\n",
    "import params\n",
    "from utils.sequence_data import generator_for_binary_classifier, generator_to_samples_and_targets\n",
    "from utils.metrics import print_report_for_binary_classfier\n",
    "from utils.preprocessing import probs_to_binary_classes\n",
    "from utils.plot import plot_train_validation_metric\n"
   ]
  },
  {
   "cell_type": "code",
   "execution_count": 2,
   "metadata": {},
   "outputs": [],
   "source": [
    "dataset = pd.read_csv(\"../datasets/train_test_data.csv\",\n",
    "                           header=0, parse_dates=[0], index_col=0)\n",
    "\n",
    "#params for generator\n",
    "label_index = len(dataset.columns) -1"
   ]
  },
  {
   "cell_type": "code",
   "execution_count": 12,
   "metadata": {},
   "outputs": [],
   "source": [
    "train_max_idx = math.ceil(len(dataset)*params.TRAIN_RATIO)\n",
    "val_max_idx = math.ceil(len(dataset)*(params.TRAIN_RATIO+params.VAL_RATIO))\n",
    "\n",
    "# 1 step = 1 batche of samples \n",
    "train_steps = (train_max_idx+1 -params.LOOKBACK) // params.BATCH_SIZE\n",
    "val_steps =  (val_max_idx - train_max_idx - params.LOOKBACK) // params.BATCH_SIZE\n",
    "test_steps = (len(dataset) - val_max_idx - params.LOOKBACK) // params.BATCH_SIZE"
   ]
  },
  {
   "cell_type": "code",
   "execution_count": 13,
   "metadata": {},
   "outputs": [],
   "source": [
    "#init generator_for_binary_classifiers\n",
    "train_gen = generator_for_binary_classifier(dataset.to_numpy(),\n",
    "                      label_index=label_index,\n",
    "                      lookback=params.LOOKBACK,\n",
    "                      delay=params.DELAY,\n",
    "                      min_index=0,\n",
    "                      max_index=train_max_idx,\n",
    "                      shuffle=False,\n",
    "                      step=params.STEP, \n",
    "                      batch_size=params.BATCH_SIZE,\n",
    "                      interval_label=True)\n",
    "\n",
    "\n",
    "\n",
    "val_gen = generator_for_binary_classifier(dataset.to_numpy(),\n",
    "                    label_index=label_index,\n",
    "                      lookback=params.LOOKBACK,\n",
    "                      delay=params.DELAY,\n",
    "                      min_index=train_max_idx+1,\n",
    "                      max_index=val_max_idx,\n",
    "                      shuffle=False,\n",
    "                      step=params.STEP, \n",
    "                      batch_size=params.BATCH_SIZE,\n",
    "                      interval_label=True)\n",
    "\n",
    "test_gen = generator_for_binary_classifier(dataset.to_numpy(),\n",
    "                      label_index=label_index,\n",
    "                      lookback=params.LOOKBACK,\n",
    "                      delay=params.DELAY,\n",
    "                      min_index=val_max_idx+1,\n",
    "                      max_index=None,\n",
    "                      shuffle=False,\n",
    "                      step=params.STEP, \n",
    "                      batch_size=params.BATCH_SIZE,\n",
    "                      interval_label=True)\n"
   ]
  },
  {
   "cell_type": "code",
   "execution_count": 14,
   "metadata": {},
   "outputs": [
    {
     "name": "stdout",
     "output_type": "stream",
     "text": [
      "_________________________________________________________________\n",
      "Layer (type)                 Output Shape              Param #   \n",
      "=================================================================\n",
      "flatten_3 (Flatten)          (None, 360)               0         \n",
      "_________________________________________________________________\n",
      "dense_7 (Dense)              (None, 32)                11552     \n",
      "_________________________________________________________________\n",
      "dense_8 (Dense)              (None, 32)                1056      \n",
      "_________________________________________________________________\n",
      "dense_9 (Dense)              (None, 1)                 33        \n",
      "=================================================================\n",
      "Total params: 12,641\n",
      "Trainable params: 12,641\n",
      "Non-trainable params: 0\n",
      "_________________________________________________________________\n",
      "None\n",
      "Epoch 1/20\n",
      "61/61 [==============================] - 1s 10ms/step - loss: 0.5895 - acc: 0.7244 - val_loss: 0.3231 - val_acc: 0.9868\n",
      "Epoch 2/20\n",
      "61/61 [==============================] - 0s 6ms/step - loss: 0.5809 - acc: 0.7480 - val_loss: 0.2914 - val_acc: 0.9868\n",
      "Epoch 3/20\n",
      "61/61 [==============================] - 0s 6ms/step - loss: 0.5727 - acc: 0.7480 - val_loss: 0.2892 - val_acc: 0.9868\n",
      "Epoch 4/20\n",
      "61/61 [==============================] - 1s 9ms/step - loss: 0.5711 - acc: 0.7480 - val_loss: 0.2790 - val_acc: 0.9868\n",
      "Epoch 5/20\n",
      "61/61 [==============================] - 0s 6ms/step - loss: 0.5691 - acc: 0.7480 - val_loss: 0.2766 - val_acc: 0.9868\n",
      "Epoch 6/20\n",
      "61/61 [==============================] - 0s 7ms/step - loss: 0.5662 - acc: 0.7480 - val_loss: 0.2738 - val_acc: 0.9868\n",
      "Epoch 7/20\n",
      "61/61 [==============================] - 0s 8ms/step - loss: 0.5645 - acc: 0.7480 - val_loss: 0.2718 - val_acc: 0.9868\n",
      "Epoch 8/20\n",
      "61/61 [==============================] - 0s 6ms/step - loss: 0.5630 - acc: 0.7480 - val_loss: 0.2698 - val_acc: 0.9868\n",
      "Epoch 9/20\n",
      "61/61 [==============================] - 1s 10ms/step - loss: 0.5614 - acc: 0.7480 - val_loss: 0.2678 - val_acc: 0.9868\n",
      "Epoch 10/20\n",
      "61/61 [==============================] - 0s 6ms/step - loss: 0.5597 - acc: 0.7480 - val_loss: 0.2659 - val_acc: 0.9868\n",
      "Epoch 11/20\n",
      "61/61 [==============================] - 0s 6ms/step - loss: 0.5582 - acc: 0.7480 - val_loss: 0.2640 - val_acc: 0.9868\n",
      "Epoch 12/20\n",
      "61/61 [==============================] - 0s 6ms/step - loss: 0.5576 - acc: 0.7480 - val_loss: 0.2665 - val_acc: 0.9868\n",
      "Epoch 13/20\n",
      "61/61 [==============================] - 0s 6ms/step - loss: 0.5552 - acc: 0.7480 - val_loss: 0.2615 - val_acc: 0.9868\n",
      "Epoch 14/20\n",
      "61/61 [==============================] - 0s 6ms/step - loss: 0.5533 - acc: 0.7480 - val_loss: 0.2587 - val_acc: 0.9868\n",
      "Epoch 15/20\n",
      "61/61 [==============================] - 0s 7ms/step - loss: 0.5517 - acc: 0.7480 - val_loss: 0.2569 - val_acc: 0.9868\n",
      "Epoch 16/20\n",
      "61/61 [==============================] - 1s 9ms/step - loss: 0.5499 - acc: 0.7480 - val_loss: 0.2553 - val_acc: 0.9868\n",
      "Epoch 17/20\n",
      "61/61 [==============================] - 0s 6ms/step - loss: 0.5482 - acc: 0.7480 - val_loss: 0.2546 - val_acc: 0.9868\n",
      "Epoch 18/20\n",
      "61/61 [==============================] - 0s 6ms/step - loss: 0.5465 - acc: 0.7480 - val_loss: 0.2513 - val_acc: 0.9868\n",
      "Epoch 19/20\n",
      "61/61 [==============================] - 1s 9ms/step - loss: 0.5461 - acc: 0.7480 - val_loss: 0.2522 - val_acc: 0.9868\n",
      "Epoch 20/20\n",
      "61/61 [==============================] - 0s 6ms/step - loss: 0.5424 - acc: 0.7472 - val_loss: 0.2565 - val_acc: 0.9868\n"
     ]
    }
   ],
   "source": [
    "#build s FC model from the book\n",
    "\n",
    "input_shape = (params.LOOKBACK//params.STEP, dataset.shape[-1] )\n",
    "\n",
    "model = Sequential()\n",
    "model.add(Flatten(input_shape=input_shape))\n",
    "model.add(Dense(32, activation='relu'))\n",
    "model.add(Dense(32, activation='relu'))\n",
    "model.add(Dense(1, activation='sigmoid'))\n",
    "\n",
    "model.compile(optimizer='adam', loss='binary_crossentropy', metrics=['accuracy'])\n",
    "print(model.summary())\n",
    "\n",
    "# #fit the model\n",
    "history = model.fit_generator(train_gen,\n",
    "                    steps_per_epoch=train_steps,\n",
    "                    validation_data=val_gen,\n",
    "                    validation_steps=val_steps,\n",
    "                    epochs=20, verbose=1)\n",
    "\n"
   ]
  },
  {
   "cell_type": "code",
   "execution_count": 15,
   "metadata": {},
   "outputs": [
    {
     "data": {
      "image/png": "[encoded data removed]",
      "text/plain": [
       "<Figure size 432x288 with 1 Axes>"
      ]
     },
     "metadata": {
      "needs_background": "light"
     },
     "output_type": "display_data"
    }
   ],
   "source": [
    "plot_train_validation_metric(history, 'loss', 'val_loss')"
   ]
  },
  {
   "cell_type": "code",
   "execution_count": 16,
   "metadata": {},
   "outputs": [
    {
     "name": "stdout",
     "output_type": "stream",
     "text": [
      "We have 2920 neg cases and 984 pos cases from train data\n",
      "the common sense baseline (accuracy score) is 0.7479508196721312\n"
     ]
    }
   ],
   "source": [
    "neg = 2762+158\n",
    "pos = 177+807\n",
    "print(\"We have {0} neg cases and {1} pos cases from train data\".format(neg,pos))\n",
    "print(\"the common sense baseline (accuracy score) is {0}\".format(neg/(pos+neg)))"
   ]
  },
  {
   "cell_type": "code",
   "execution_count": 17,
   "metadata": {
    "scrolled": false
   },
   "outputs": [
    {
     "name": "stdout",
     "output_type": "stream",
     "text": [
      "Counter({0.0: 2920, 1.0: 984})\n",
      "F1 score: 0.000000\n",
      "precision score: 0.000000\n",
      "recall score: 0.000000\n",
      "accuracy score: 0.747951\n",
      "matthews_corrcoef: 0.000000\n",
      "\n",
      "Confusion matrix:\n",
      "[[2920    0]\n",
      " [ 984    0]]\n"
     ]
    },
    {
     "name": "stderr",
     "output_type": "stream",
     "text": [
      "/home/kevin/anaconda2/envs/py36/lib/python3.6/site-packages/sklearn/metrics/classification.py:1437: UndefinedMetricWarning: F-score is ill-defined and being set to 0.0 due to no predicted samples.\n",
      "  'precision', 'predicted', average, warn_for)\n",
      "/home/kevin/anaconda2/envs/py36/lib/python3.6/site-packages/sklearn/metrics/classification.py:1437: UndefinedMetricWarning: Precision is ill-defined and being set to 0.0 due to no predicted samples.\n",
      "  'precision', 'predicted', average, warn_for)\n",
      "/home/kevin/anaconda2/envs/py36/lib/python3.6/site-packages/sklearn/metrics/classification.py:872: RuntimeWarning: invalid value encountered in double_scalars\n",
      "  mcc = cov_ytyp / np.sqrt(cov_ytyt * cov_ypyp)\n"
     ]
    }
   ],
   "source": [
    "#Make predictions for train set\n",
    "    \n",
    "X, Y = generator_to_samples_and_targets(train_gen, train_steps)    \n",
    "Y_pred = model.predict(X)\n",
    "print(collections.Counter(Y))\n",
    "print_report_for_binary_classfier(Y, probs_to_binary_classes(Y_pred))"
   ]
  },
  {
   "cell_type": "code",
   "execution_count": 18,
   "metadata": {
    "scrolled": true
   },
   "outputs": [
    {
     "name": "stdout",
     "output_type": "stream",
     "text": [
      "Counter({0.0: 821, 1.0: 11})\n",
      "F1 score: 0.000000\n",
      "precision score: 0.000000\n",
      "recall score: 0.000000\n",
      "accuracy score: 0.986779\n",
      "matthews_corrcoef: 0.000000\n",
      "\n",
      "Confusion matrix:\n",
      "[[821   0]\n",
      " [ 11   0]]\n"
     ]
    }
   ],
   "source": [
    "#Make predictions from dev set\n",
    "X, Y = generator_to_samples_and_targets(val_gen, val_steps)    \n",
    "Y_pred = model.predict(X)\n",
    "print(collections.Counter(Y))\n",
    "print_report_for_binary_classfier(Y, probs_to_binary_classes(Y_pred))"
   ]
  },
  {
   "cell_type": "code",
   "execution_count": 11,
   "metadata": {},
   "outputs": [
    {
     "name": "stdout",
     "output_type": "stream",
     "text": [
      "Counter({0.0: 802, 1.0: 30})\n",
      "F1 score: 0.000000\n",
      "precision score: 0.000000\n",
      "recall score: 0.000000\n",
      "accuracy score: 0.962740\n",
      "matthews_corrcoef: -0.006709\n",
      "\n",
      "Confusion matrix:\n",
      "[[801   1]\n",
      " [ 30   0]]\n"
     ]
    }
   ],
   "source": [
    "#Make predictions for test set\n",
    "X, Y = generator_to_samples_and_targets(test_gen, test_steps)    \n",
    "Y_pred = model.predict(X)\n",
    "print(collections.Counter(Y))\n",
    "print_report_for_binary_classfier(Y, probs_to_binary_classes(Y_pred))"
   ]
  },
  {
   "cell_type": "code",
   "execution_count": null,
   "metadata": {},
   "outputs": [],
   "source": []
  }
 ],
 "metadata": {
  "kernelspec": {
   "display_name": "Python 3",
   "language": "python",
   "name": "python3"
  },
  "language_info": {
   "codemirror_mode": {
    "name": "ipython",
    "version": 3
   },
   "file_extension": ".py",
   "mimetype": "text/x-python",
   "name": "python",
   "nbconvert_exporter": "python",
   "pygments_lexer": "ipython3",
   "version": "3.6.8"
  }
 },
 "nbformat": 4,
 "nbformat_minor": 2
}

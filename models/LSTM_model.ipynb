{
 "cells": [
  {
   "cell_type": "code",
   "execution_count": 1,
   "metadata": {},
   "outputs": [
    {
     "name": "stderr",
     "output_type": "stream",
     "text": [
      "Using TensorFlow backend.\n"
     ]
    }
   ],
   "source": [
    "import math\n",
    "import collections\n",
    "\n",
    "import pandas as pd\n",
    "\n",
    "from keras import regularizers\n",
    "from keras.models import Model, Sequential\n",
    "from keras.layers import *\n",
    "\n",
    "import params\n",
    "from utils.sequence_data import generator_for_binary_classifier, generator_to_samples_and_targets\n",
    "from utils.metrics import print_report_for_binary_classfier\n",
    "from utils.preprocessing import probs_to_binary_classes\n",
    "from utils.hyperparams import hyperparams_search\n",
    "from utils.plot import plot_train_validation_metric"
   ]
  },
  {
   "cell_type": "code",
   "execution_count": 2,
   "metadata": {},
   "outputs": [],
   "source": [
    "dataset = pd.read_csv(\"../datasets/data_for_models/dataset_1996-01-01_2019-08-22.csv\",\n",
    "                           header=0, parse_dates=[0], index_col=0)\n",
    "input_shape = (None, dataset.shape[-1])\n",
    "#params for generator\n",
    "label_index = len(dataset.columns) -1"
   ]
  },
  {
   "cell_type": "code",
   "execution_count": 3,
   "metadata": {},
   "outputs": [],
   "source": [
    "train_max_idx = math.ceil(len(dataset)*params.TRAIN_RATIO)\n",
    "val_max_idx = math.ceil(len(dataset)*(params.TRAIN_RATIO+params.VAL_RATIO))\n",
    "\n",
    "# 1 step = 1 batche of samples \n",
    "train_steps = (train_max_idx+1 -params.LOOKBACK) // params.BATCH_SIZE\n",
    "val_steps =  (val_max_idx - train_max_idx - params.LOOKBACK) // params.BATCH_SIZE\n",
    "test_steps = (len(dataset) - val_max_idx - params.LOOKBACK) // params.BATCH_SIZE"
   ]
  },
  {
   "cell_type": "code",
   "execution_count": 4,
   "metadata": {},
   "outputs": [],
   "source": [
    "#init generator_for_binary_classifiers\n",
    "train_gen = generator_for_binary_classifier(dataset.to_numpy(),\n",
    "                      label_index=label_index,\n",
    "                      lookback=params.LOOKBACK,\n",
    "                      delay=params.DELAY,\n",
    "                      min_index=0,\n",
    "                      max_index=train_max_idx,\n",
    "                      shuffle=False,\n",
    "                      step=params.STEP, \n",
    "                      batch_size=params.BATCH_SIZE,\n",
    "                      interval_label=True)\n",
    "\n",
    "\n",
    "\n",
    "val_gen = generator_for_binary_classifier(dataset.to_numpy(),\n",
    "                    label_index=label_index,\n",
    "                      lookback=params.LOOKBACK,\n",
    "                      delay=params.DELAY,\n",
    "                      min_index=train_max_idx+1,\n",
    "                      max_index=val_max_idx,\n",
    "                      shuffle=False,\n",
    "                      step=params.STEP, \n",
    "                      batch_size=params.BATCH_SIZE,\n",
    "                      interval_label=True)\n",
    "\n",
    "test_gen = generator_for_binary_classifier(dataset.to_numpy(),\n",
    "                      label_index=label_index,\n",
    "                      lookback=params.LOOKBACK,\n",
    "                      delay=params.DELAY,\n",
    "                      min_index=val_max_idx+1,\n",
    "                      max_index=None,\n",
    "                      shuffle=False,\n",
    "                      step=params.STEP, \n",
    "                      batch_size=params.BATCH_SIZE,\n",
    "                      interval_label=True)"
   ]
  },
  {
   "cell_type": "code",
   "execution_count": 5,
   "metadata": {},
   "outputs": [],
   "source": [
    "def lstm_model(hidden_unit, n_layer, l2_weight, input_shape):\n",
    "    model = Sequential()\n",
    "    is_return_sequences = True if n_layer>=2 else False\n",
    "    \n",
    "    # first layer\n",
    "    model.add(LSTM(hidden_unit, \n",
    "                   input_shape=input_shape,\n",
    "                   kernel_regularizer=regularizers.l2(l2_weight),\n",
    "                   recurrent_regularizer=regularizers.l2(l2_weight),\n",
    "                   return_sequences=is_return_sequences))\n",
    "    \n",
    "    # intermediate layers\n",
    "    if n_layer >= 3:\n",
    "        for _ in range(n_layer-2):\n",
    "            model.add(LSTM(hidden_unit,\n",
    "                           kernel_regularizer=regularizers.l2(l2_weight),\n",
    "                           recurrent_regularizer=regularizers.l2(l2_weight),\n",
    "                           return_sequences=is_return_sequences))\n",
    "\n",
    "    \n",
    "    # last layer\n",
    "    if n_layer >= 2:\n",
    "        model.add(LSTM(hidden_unit,\n",
    "                       recurrent_regularizer=regularizers.l2(l2_weight),\n",
    "                       kernel_regularizer=regularizers.l2(l2_weight)))\n",
    "    \n",
    "    model.add(Dense(1, activation='sigmoid'))\n",
    "    model.compile(optimizer='adam', loss='binary_crossentropy', metrics=['accuracy'])\n",
    "    return model"
   ]
  },
  {
   "cell_type": "code",
   "execution_count": 7,
   "metadata": {
    "scrolled": true
   },
   "outputs": [
    {
     "name": "stdout",
     "output_type": "stream",
     "text": [
      "Epoch 1/2\n",
      "63/63 [==============================] - 2s 25ms/step - loss: 0.5714 - acc: 0.7378 - val_loss: 0.2666 - val_acc: 0.9868\n",
      "Epoch 2/2\n",
      "63/63 [==============================] - 1s 16ms/step - loss: 0.5660 - acc: 0.7517 - val_loss: 0.2577 - val_acc: 0.9868\n",
      "Epoch 1/2\n",
      "63/63 [==============================] - 2s 29ms/step - loss: 0.5858 - acc: 0.7535 - val_loss: 0.3391 - val_acc: 0.9868\n",
      "Epoch 2/2\n",
      "63/63 [==============================] - 1s 22ms/step - loss: 0.5663 - acc: 0.7525 - val_loss: 0.3099 - val_acc: 0.9868\n",
      "Epoch 1/2\n",
      "63/63 [==============================] - 3s 48ms/step - loss: 0.6052 - acc: 0.7386 - val_loss: 0.3867 - val_acc: 0.9868\n",
      "Epoch 2/2\n",
      "63/63 [==============================] - 2s 31ms/step - loss: 0.5694 - acc: 0.7552 - val_loss: 0.3754 - val_acc: 0.9868\n",
      "Epoch 1/2\n",
      "63/63 [==============================] - 4s 68ms/step - loss: 0.5844 - acc: 0.7488 - val_loss: 0.2445 - val_acc: 0.9868\n",
      "Epoch 2/2\n",
      "63/63 [==============================] - 3s 48ms/step - loss: 0.5711 - acc: 0.7560 - val_loss: 0.2702 - val_acc: 0.9868\n",
      "Epoch 1/2\n",
      "63/63 [==============================] - 2s 30ms/step - loss: 0.6226 - acc: 0.7560 - val_loss: 0.3185 - val_acc: 0.9868\n",
      "Epoch 2/2\n",
      "63/63 [==============================] - 1s 16ms/step - loss: 0.5993 - acc: 0.7515 - val_loss: 0.3129 - val_acc: 0.9868\n",
      "Epoch 1/2\n",
      "63/63 [==============================] - 2s 36ms/step - loss: 0.6392 - acc: 0.7498 - val_loss: 0.3464 - val_acc: 0.9868\n",
      "Epoch 2/2\n",
      "63/63 [==============================] - 2s 31ms/step - loss: 0.6139 - acc: 0.7480 - val_loss: 0.3085 - val_acc: 0.9868\n",
      "Epoch 1/2\n",
      "63/63 [==============================] - 4s 57ms/step - loss: 0.6645 - acc: 0.7495 - val_loss: 0.4128 - val_acc: 0.9868\n",
      "Epoch 2/2\n",
      "63/63 [==============================] - 1s 22ms/step - loss: 0.6370 - acc: 0.7468 - val_loss: 0.3882 - val_acc: 0.9868\n",
      "Epoch 1/2\n",
      "63/63 [==============================] - 4s 71ms/step - loss: 0.7356 - acc: 0.7560 - val_loss: 0.4880 - val_acc: 0.9868\n",
      "Epoch 2/2\n",
      "63/63 [==============================] - 2s 31ms/step - loss: 0.6728 - acc: 0.7515 - val_loss: 0.4657 - val_acc: 0.9868\n",
      "Epoch 1/2\n",
      "63/63 [==============================] - 2s 34ms/step - loss: 0.6982 - acc: 0.7264 - val_loss: 0.3543 - val_acc: 0.9868\n",
      "Epoch 2/2\n",
      "63/63 [==============================] - 1s 13ms/step - loss: 0.6595 - acc: 0.7500 - val_loss: 0.3231 - val_acc: 0.9868\n",
      "Epoch 1/2\n",
      "63/63 [==============================] - 3s 41ms/step - loss: 0.7474 - acc: 0.7560 - val_loss: 0.4070 - val_acc: 0.9868\n",
      "Epoch 2/2\n",
      "63/63 [==============================] - 1s 17ms/step - loss: 0.6615 - acc: 0.7560 - val_loss: 0.3775 - val_acc: 0.9868\n",
      "Epoch 1/2\n",
      "63/63 [==============================] - 3s 54ms/step - loss: 0.7787 - acc: 0.7560 - val_loss: 0.4642 - val_acc: 0.9868\n",
      "Epoch 2/2\n",
      "63/63 [==============================] - 2s 32ms/step - loss: 0.7062 - acc: 0.7512 - val_loss: 0.3986 - val_acc: 0.9868\n",
      "Epoch 1/2\n",
      "63/63 [==============================] - 4s 63ms/step - loss: 0.9097 - acc: 0.7418 - val_loss: 0.5934 - val_acc: 0.9868\n",
      "Epoch 2/2\n",
      "63/63 [==============================] - 2s 31ms/step - loss: 0.7653 - acc: 0.7458 - val_loss: 0.5033 - val_acc: 0.9868\n",
      "{'epochs': 2, 'n_layer': 1, 'hidden_unti': 32, 'l2_weight': 0}\n"
     ]
    }
   ],
   "source": [
    "best_params = hyperparams_search(model_func=lstm_model, \n",
    "                                 input_shape=input_shape,\n",
    "                                 train_steps=train_steps, \n",
    "                                 val_steps=val_steps, \n",
    "                                 train_gen=train_gen, \n",
    "                                 val_gen=val_gen, \n",
    "                                 num_epoch=1000,\n",
    "                                 hidden_units=[32,64], \n",
    "                                 n_layers=[1,2], \n",
    "                                 l2_weights=[0,0.0005,0.0015],\n",
    "                                 is_verbose=1)\n",
    "print(best_params)"
   ]
  },
  {
   "cell_type": "code",
   "execution_count": 7,
   "metadata": {},
   "outputs": [
    {
     "ename": "NameError",
     "evalue": "name 'best_params' is not defined",
     "output_type": "error",
     "traceback": [
      "\u001b[0;31m---------------------------------------------------------------------------\u001b[0m",
      "\u001b[0;31mNameError\u001b[0m                                 Traceback (most recent call last)",
      "\u001b[0;32m<ipython-input-7-a8602ddaae82>\u001b[0m in \u001b[0;36m<module>\u001b[0;34m\u001b[0m\n\u001b[1;32m      1\u001b[0m \u001b[0;31m#hyperparameters\u001b[0m\u001b[0;34m\u001b[0m\u001b[0;34m\u001b[0m\u001b[0;34m\u001b[0m\u001b[0m\n\u001b[0;32m----> 2\u001b[0;31m \u001b[0mnum_epoch\u001b[0m \u001b[0;34m=\u001b[0m \u001b[0mbest_params\u001b[0m\u001b[0;34m[\u001b[0m\u001b[0;34m'epochs'\u001b[0m\u001b[0;34m]\u001b[0m\u001b[0;34m\u001b[0m\u001b[0;34m\u001b[0m\u001b[0m\n\u001b[0m\u001b[1;32m      3\u001b[0m \u001b[0mn_layer\u001b[0m\u001b[0;34m=\u001b[0m \u001b[0mbest_params\u001b[0m\u001b[0;34m[\u001b[0m\u001b[0;34m'n_layer'\u001b[0m\u001b[0;34m]\u001b[0m\u001b[0;34m\u001b[0m\u001b[0;34m\u001b[0m\u001b[0m\n\u001b[1;32m      4\u001b[0m \u001b[0mhidden_unit\u001b[0m\u001b[0;34m=\u001b[0m\u001b[0mbest_params\u001b[0m\u001b[0;34m[\u001b[0m\u001b[0;34m'hidden_unti'\u001b[0m\u001b[0;34m]\u001b[0m\u001b[0;34m\u001b[0m\u001b[0;34m\u001b[0m\u001b[0m\n\u001b[1;32m      5\u001b[0m \u001b[0ml2_weight\u001b[0m\u001b[0;34m=\u001b[0m\u001b[0mbest_params\u001b[0m\u001b[0;34m[\u001b[0m\u001b[0;34m'l2_weight'\u001b[0m\u001b[0;34m]\u001b[0m\u001b[0;34m\u001b[0m\u001b[0;34m\u001b[0m\u001b[0m\n",
      "\u001b[0;31mNameError\u001b[0m: name 'best_params' is not defined"
     ]
    }
   ],
   "source": [
    "#hyperparameters\n",
    "num_epoch = best_params['epochs'] \n",
    "n_layer= best_params['n_layer'] \n",
    "hidden_unit=best_params['hidden_unti']  \n",
    "l2_weight=best_params['l2_weight']\n",
    "\n",
    "model = lstm_model(hidden_unit, n_layer, l2_weight, input_shape)\n",
    "model.compile(optimizer='adam', loss='binary_crossentropy', metrics=['accuracy'])\n",
    "print(model.summary())\n",
    "\n",
    "# #fit the model\n",
    "history = model.fit_generator(train_gen,\n",
    "                    steps_per_epoch=train_steps,\n",
    "                    validation_data=val_gen,\n",
    "                    validation_steps=val_steps,\n",
    "                    epochs=epochs, verbose=1)\n",
    "\n"
   ]
  },
  {
   "cell_type": "code",
   "execution_count": 34,
   "metadata": {},
   "outputs": [
    {
     "data": {
      "image/png": "[encoded data removed]",
      "text/plain": [
       "<Figure size 1050x420 with 1 Axes>"
      ]
     },
     "metadata": {
      "needs_background": "light"
     },
     "output_type": "display_data"
    }
   ],
   "source": [
    "plot_train_validation_metric(history, 'loss', 'val_loss')"
   ]
  },
  {
   "cell_type": "markdown",
   "metadata": {},
   "source": [
    "## We have 2984 positive and 984 negtive cases. "
   ]
  },
  {
   "cell_type": "code",
   "execution_count": 14,
   "metadata": {
    "collapsed": true
   },
   "outputs": [
    {
     "name": "stdout",
     "output_type": "stream",
     "text": [
      "Counter({0.0: 2920, 1.0: 984})\n",
      "F1 score: 0.163636\n",
      "precision score: 0.775862\n",
      "recall score: 0.091463\n",
      "accuracy score: 0.764344\n",
      "matthews_corrcoef: 0.211116\n",
      "\n",
      "Confusion matrix:\n",
      "[[2894   26]\n",
      " [ 894   90]]\n"
     ]
    }
   ],
   "source": [
    "#Make predictions for train set\n",
    "    \n",
    "X, Y = generator_to_samples_and_targets(train_gen, train_steps)    \n",
    "Y_pred = model.predict(X)\n",
    "print(collections.Counter(Y))\n",
    "print_report_for_binary_classfier(Y, probs_to_binary_classes(Y_pred))"
   ]
  },
  {
   "cell_type": "code",
   "execution_count": 15,
   "metadata": {
    "scrolled": true
   },
   "outputs": [
    {
     "name": "stdout",
     "output_type": "stream",
     "text": [
      "Counter({0.0: 821, 1.0: 11})\n",
      "F1 score: 0.000000\n",
      "precision score: 0.000000\n",
      "recall score: 0.000000\n",
      "accuracy score: 0.985577\n",
      "matthews_corrcoef: -0.004015\n",
      "\n",
      "Confusion matrix:\n",
      "[[820   1]\n",
      " [ 11   0]]\n"
     ]
    }
   ],
   "source": [
    "#Make predictions from dev set\n",
    "X, Y = generator_to_samples_and_targets(val_gen, val_steps)    \n",
    "Y_pred = model.predict(X)\n",
    "print(collections.Counter(Y))\n",
    "print_report_for_binary_classfier(Y, probs_to_binary_classes(Y_pred))"
   ]
  },
  {
   "cell_type": "code",
   "execution_count": null,
   "metadata": {},
   "outputs": [],
   "source": [
    "#Make predictions for test set\n",
    "X, Y = generator_to_samples_and_targets(test_gen, test_steps)    \n",
    "Y_pred = model.predict(X)\n",
    "print(collections.Counter(Y))\n",
    "print_report_for_binary_classfier(Y, probs_to_binary_classes(Y_pred))"
   ]
  },
  {
   "cell_type": "markdown",
   "metadata": {},
   "source": [
    "# Save the best model"
   ]
  },
  {
   "cell_type": "code",
   "execution_count": null,
   "metadata": {},
   "outputs": [],
   "source": [
    "from keras.models import load_model\n",
    "\n",
    "model.save(params.BEST_MODEL_PATH)  # creates a HDF5 file 'my_model.h5'"
   ]
  }
 ],
 "metadata": {
  "kernelspec": {
   "display_name": "Python 3",
   "language": "python",
   "name": "python3"
  },
  "language_info": {
   "codemirror_mode": {
    "name": "ipython",
    "version": 3
   },
   "file_extension": ".py",
   "mimetype": "text/x-python",
   "name": "python",
   "nbconvert_exporter": "python",
   "pygments_lexer": "ipython3",
   "version": "3.6.8"
  }
 },
 "nbformat": 4,
 "nbformat_minor": 2
}

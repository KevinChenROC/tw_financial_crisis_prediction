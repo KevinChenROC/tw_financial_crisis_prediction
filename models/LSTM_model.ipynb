{
 "cells": [
  {
   "cell_type": "code",
   "execution_count": 2,
   "metadata": {},
   "outputs": [
    {
     "name": "stderr",
     "output_type": "stream",
     "text": [
      "Using TensorFlow backend.\n"
     ]
    }
   ],
   "source": [
    "import math\n",
    "import collections\n",
    "\n",
    "import pandas as pd\n",
    "\n",
    "from keras.models import Model, Sequential\n",
    "from keras.layers import *\n",
    "\n",
    "import params\n",
    "from utils.sequence_data import generator_for_binary_classifier, generator_to_samples_and_targets\n",
    "from utils.metrics import print_report_for_binary_classfier\n",
    "from utils.preprocessing import probs_to_binary_classes\n",
    "from utils.plot import plot_train_validation_metric\n"
   ]
  },
  {
   "cell_type": "code",
   "execution_count": 4,
   "metadata": {},
   "outputs": [],
   "source": [
    "dataset = pd.read_csv(\"../datasets/data_for_models/dataset_1996-01-01_2019-05-01.csv\",\n",
    "                           header=0, parse_dates=[0], index_col=0)\n",
    "\n",
    "#params for generator\n",
    "label_index = len(dataset.columns) -1\n",
    "input_shape = (params.LOOKBACK//params.STEP, dataset.shape[-1] )"
   ]
  },
  {
   "cell_type": "code",
   "execution_count": 4,
   "metadata": {},
   "outputs": [],
   "source": [
    "train_max_idx = math.ceil(len(dataset)*params.TRAIN_RATIO)\n",
    "val_max_idx = math.ceil(len(dataset)*(params.TRAIN_RATIO+params.VAL_RATIO))\n",
    "\n",
    "# 1 step = 1 batche of samples \n",
    "train_steps = (train_max_idx+1 -params.LOOKBACK) // params.BATCH_SIZE\n",
    "val_steps =  (val_max_idx - train_max_idx - params.LOOKBACK) // params.BATCH_SIZE\n",
    "test_steps = (len(dataset) - val_max_idx - params.LOOKBACK) // params.BATCH_SIZE"
   ]
  },
  {
   "cell_type": "code",
   "execution_count": 7,
   "metadata": {},
   "outputs": [],
   "source": [
    "#init generator_for_binary_classifiers\n",
    "train_gen = generator_for_binary_classifier(dataset.to_numpy(),\n",
    "                      label_index=label_index,\n",
    "                      lookback=params.LOOKBACK,\n",
    "                      delay=params.DELAY,\n",
    "                      min_index=0,\n",
    "                      max_index=train_max_idx,\n",
    "                      shuffle=False,\n",
    "                      step=params.STEP, \n",
    "                      batch_size=params.BATCH_SIZE,\n",
    "                      interval_label=True)\n",
    "\n",
    "\n",
    "\n",
    "val_gen = generator_for_binary_classifier(dataset.to_numpy(),\n",
    "                    label_index=label_index,\n",
    "                      lookback=params.LOOKBACK,\n",
    "                      delay=params.DELAY,\n",
    "                      min_index=train_max_idx+1,\n",
    "                      max_index=val_max_idx,\n",
    "                      shuffle=False,\n",
    "                      step=params.STEP, \n",
    "                      batch_size=params.BATCH_SIZE,\n",
    "                      interval_label=True)\n",
    "\n",
    "test_gen = generator_for_binary_classifier(dataset.to_numpy(),\n",
    "                      label_index=label_index,\n",
    "                      lookback=params.LOOKBACK,\n",
    "                      delay=params.DELAY,\n",
    "                      min_index=val_max_idx+1,\n",
    "                      max_index=None,\n",
    "                      shuffle=False,\n",
    "                      step=params.STEP, \n",
    "                      batch_size=params.BATCH_SIZE,\n",
    "                      interval_label=True)\n"
   ]
  },
  {
   "cell_type": "code",
   "execution_count": 11,
   "metadata": {},
   "outputs": [
    {
     "name": "stdout",
     "output_type": "stream",
     "text": [
      "_________________________________________________________________\n",
      "Layer (type)                 Output Shape              Param #   \n",
      "=================================================================\n",
      "lstm_3 (LSTM)                (None, 32)                7296      \n",
      "_________________________________________________________________\n",
      "dense_3 (Dense)              (None, 1)                 33        \n",
      "=================================================================\n",
      "Total params: 7,329\n",
      "Trainable params: 7,329\n",
      "Non-trainable params: 0\n",
      "_________________________________________________________________\n",
      "None\n"
     ]
    }
   ],
   "source": [
    "#build LSTM model from the book\n",
    "\n",
    "hidden_units = 32\n",
    "epochs = 20\n",
    "l2_weight = 0.001\n",
    "\n",
    "input_shape = (None, dataset.shape[-1] )\n",
    "\n",
    "model = Sequential()\n",
    "model.add(LSTM(hidden_units, input_shape=input_shape))\n",
    "model.add(Dense(1, activation='sigmoid'))\n",
    "\n",
    "model.compile(optimizer='adam', loss='binary_crossentropy', metrics=['accuracy'])\n",
    "print(model.summary())\n",
    "\n",
    "# #fit the model\n",
    "history = model.fit_generator(train_gen,\n",
    "                    steps_per_epoch=train_steps,\n",
    "                    validation_data=val_gen,\n",
    "                    validation_steps=val_steps,\n",
    "                    epochs=epochs, verbose=0)\n",
    "\n"
   ]
  },
  {
   "cell_type": "code",
   "execution_count": 12,
   "metadata": {},
   "outputs": [
    {
     "data": {
      "image/png": "[encoded data removed]",
      "text/plain": [
       "<Figure size 432x288 with 1 Axes>"
      ]
     },
     "metadata": {
      "needs_background": "light"
     },
     "output_type": "display_data"
    }
   ],
   "source": [
    "plot_train_validation_metric(history, 'loss', 'val_loss')"
   ]
  },
  {
   "cell_type": "code",
   "execution_count": 13,
   "metadata": {},
   "outputs": [
    {
     "name": "stdout",
     "output_type": "stream",
     "text": [
      "We have 2920 neg cases and 984 pos cases from train data\n",
      "the common sense baseline (accuracy score) is 0.7479508196721312\n"
     ]
    }
   ],
   "source": [
    "neg = 2762+158\n",
    "pos = 177+807\n",
    "print(\"We have {0} neg cases and {1} pos cases from train data\".format(neg,pos))\n",
    "print(\"the common sense baseline (accuracy score) is {0}\".format(neg/(pos+neg)))"
   ]
  },
  {
   "cell_type": "code",
   "execution_count": 14,
   "metadata": {
    "scrolled": false
   },
   "outputs": [
    {
     "name": "stdout",
     "output_type": "stream",
     "text": [
      "Counter({0.0: 2920, 1.0: 984})\n",
      "F1 score: 0.163636\n",
      "precision score: 0.775862\n",
      "recall score: 0.091463\n",
      "accuracy score: 0.764344\n",
      "matthews_corrcoef: 0.211116\n",
      "\n",
      "Confusion matrix:\n",
      "[[2894   26]\n",
      " [ 894   90]]\n"
     ]
    }
   ],
   "source": [
    "#Make predictions for train set\n",
    "    \n",
    "X, Y = generator_to_samples_and_targets(train_gen, train_steps)    \n",
    "Y_pred = model.predict(X)\n",
    "print(collections.Counter(Y))\n",
    "print_report_for_binary_classfier(Y, probs_to_binary_classes(Y_pred))"
   ]
  },
  {
   "cell_type": "code",
   "execution_count": 15,
   "metadata": {
    "scrolled": true
   },
   "outputs": [
    {
     "name": "stdout",
     "output_type": "stream",
     "text": [
      "Counter({0.0: 821, 1.0: 11})\n",
      "F1 score: 0.000000\n",
      "precision score: 0.000000\n",
      "recall score: 0.000000\n",
      "accuracy score: 0.985577\n",
      "matthews_corrcoef: -0.004015\n",
      "\n",
      "Confusion matrix:\n",
      "[[820   1]\n",
      " [ 11   0]]\n"
     ]
    }
   ],
   "source": [
    "#Make predictions from dev set\n",
    "X, Y = generator_to_samples_and_targets(val_gen, val_steps)    \n",
    "Y_pred = model.predict(X)\n",
    "print(collections.Counter(Y))\n",
    "print_report_for_binary_classfier(Y, probs_to_binary_classes(Y_pred))"
   ]
  },
  {
   "cell_type": "code",
   "execution_count": null,
   "metadata": {},
   "outputs": [],
   "source": [
    "#Make predictions for test set\n",
    "X, Y = generator_to_samples_and_targets(test_gen, test_steps)    \n",
    "Y_pred = model.predict(X)\n",
    "print(collections.Counter(Y))\n",
    "print_report_for_binary_classfier(Y, probs_to_binary_classes(Y_pred))"
   ]
  },
  {
   "cell_type": "code",
   "execution_count": null,
   "metadata": {},
   "outputs": [],
   "source": []
  },
  {
   "cell_type": "code",
   "execution_count": null,
   "metadata": {},
   "outputs": [],
   "source": []
  }
 ],
 "metadata": {
  "kernelspec": {
   "display_name": "Python 3",
   "language": "python",
   "name": "python3"
  },
  "language_info": {
   "codemirror_mode": {
    "name": "ipython",
    "version": 3
   },
   "file_extension": ".py",
   "mimetype": "text/x-python",
   "name": "python",
   "nbconvert_exporter": "python",
   "pygments_lexer": "ipython3",
   "version": "3.6.8"
  }
 },
 "nbformat": 4,
 "nbformat_minor": 2
}

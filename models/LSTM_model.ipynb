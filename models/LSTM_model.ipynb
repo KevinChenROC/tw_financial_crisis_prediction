{
 "cells": [
  {
   "cell_type": "code",
   "execution_count": 6,
   "metadata": {},
   "outputs": [],
   "source": [
    "import math\n",
    "import collections\n",
    "\n",
    "import pandas as pd\n",
    "\n",
    "from keras import regularizers\n",
    "from keras.models import Model, Sequential\n",
    "from keras.layers import *\n",
    "\n",
    "import params\n",
    "from utils.sequence_data import data_to_sequences_and_labels\n",
    "from utils.metrics import print_report_for_binary_classfier\n",
    "from utils.preprocessing import probs_to_binary_classes\n",
    "from utils.hyperparams import hyperparams_search\n",
    "from utils.plot import plot_train_validation_metric"
   ]
  },
  {
   "cell_type": "code",
   "execution_count": 7,
   "metadata": {},
   "outputs": [],
   "source": [
    "dataset = pd.read_csv(\"../datasets/data_for_models/dataset_1996-01-01_2019-08-22.csv\",\n",
    "                           header=0, parse_dates=[0], index_col=0)\n",
    "\n",
    "input_shape = (params.LOOKBACK//params.STEP, dataset.shape[-1] )"
   ]
  },
  {
   "cell_type": "code",
   "execution_count": 8,
   "metadata": {},
   "outputs": [],
   "source": [
    "#params for generating sequences \n",
    "train_max_idx = math.ceil(len(dataset)*params.TRAIN_RATIO)\n",
    "val_max_idx = math.ceil(len(dataset)*(params.TRAIN_RATIO+params.VAL_RATIO))\n",
    "label_index = len(dataset.columns) -1\n",
    "\n",
    "\n",
    "# prepare data\n",
    "train_X, train_Y = data_to_sequences_and_labels(dataset.to_numpy(), params.LOOKBACK, \n",
    "                                                params.STEP, \n",
    "                                                0, train_max_idx, \n",
    "                                                params.DELAY,\n",
    "                                                label_index) \n",
    "val_X, val_Y = data_to_sequences_and_labels(dataset.to_numpy(), params.LOOKBACK, \n",
    "                                                params.STEP, \n",
    "                                                train_max_idx+1, val_max_idx, \n",
    "                                                params.DELAY,\n",
    "                                                label_index)\n",
    "test_X, test_Y = data_to_sequences_and_labels(dataset.to_numpy(), params.LOOKBACK, \n",
    "                                                params.STEP, \n",
    "                                                val_max_idx+1, None, \n",
    "                                                params.DELAY,\n",
    "                                                label_index)"
   ]
  },
  {
   "cell_type": "code",
   "execution_count": 9,
   "metadata": {},
   "outputs": [],
   "source": [
    "def lstm_model(hidden_unit, n_layer, l2_weight, input_shape):\n",
    "    model = Sequential()\n",
    "    is_return_sequences = True if n_layer>=2 else False\n",
    "    \n",
    "    # first layer\n",
    "    model.add(LSTM(hidden_unit, \n",
    "                   input_shape=input_shape,\n",
    "                   kernel_regularizer=regularizers.l2(l2_weight),\n",
    "                   recurrent_regularizer=regularizers.l2(l2_weight),\n",
    "                   return_sequences=is_return_sequences))\n",
    "    \n",
    "    # intermediate layers\n",
    "    if n_layer >= 3:\n",
    "        for _ in range(n_layer-2):\n",
    "            model.add(LSTM(hidden_unit,\n",
    "                           kernel_regularizer=regularizers.l2(l2_weight),\n",
    "                           recurrent_regularizer=regularizers.l2(l2_weight),\n",
    "                           return_sequences=is_return_sequences))\n",
    "\n",
    "    \n",
    "    # last layer\n",
    "    if n_layer >= 2:\n",
    "        model.add(LSTM(hidden_unit,\n",
    "                       recurrent_regularizer=regularizers.l2(l2_weight),\n",
    "                       kernel_regularizer=regularizers.l2(l2_weight)))\n",
    "    \n",
    "    model.add(Dense(1, activation='sigmoid'))\n",
    "    model.compile(optimizer='adam', loss='binary_crossentropy', metrics=['accuracy'])\n",
    "    return model"
   ]
  },
  {
   "cell_type": "code",
   "execution_count": 11,
   "metadata": {
    "scrolled": true
   },
   "outputs": [
    {
     "name": "stdout",
     "output_type": "stream",
     "text": [
      "Train on 4033 samples, validate on 853 samples\n",
      "Epoch 1/1\n",
      "4033/4033 [==============================] - 4s 984us/step - loss: 0.5290 - acc: 0.7600 - val_loss: 0.3775 - val_acc: 0.8957\n",
      "Train on 4033 samples, validate on 853 samples\n",
      "Epoch 1/1\n",
      "4033/4033 [==============================] - 4s 1ms/step - loss: 0.5228 - acc: 0.7610 - val_loss: 0.2169 - val_acc: 0.9683\n",
      "Train on 4033 samples, validate on 853 samples\n",
      "Epoch 1/1\n",
      "4033/4033 [==============================] - 5s 1ms/step - loss: 0.5552 - acc: 0.7563 - val_loss: 0.1573 - val_acc: 0.9871\n",
      "Train on 4033 samples, validate on 853 samples\n",
      "Epoch 1/1\n",
      "4033/4033 [==============================] - 6s 2ms/step - loss: 0.5404 - acc: 0.7602 - val_loss: 0.1597 - val_acc: 0.9871\n",
      "Train on 4033 samples, validate on 853 samples\n",
      "Epoch 1/1\n",
      "4033/4033 [==============================] - 4s 1ms/step - loss: 0.5487 - acc: 0.7587 - val_loss: 0.3368 - val_acc: 0.8628\n",
      "Train on 4033 samples, validate on 853 samples\n",
      "Epoch 1/1\n",
      "4033/4033 [==============================] - 6s 2ms/step - loss: 0.5507 - acc: 0.7595 - val_loss: 0.1503 - val_acc: 0.9871\n",
      "Train on 4033 samples, validate on 853 samples\n",
      "Epoch 1/1\n",
      "4033/4033 [==============================] - 6s 2ms/step - loss: 0.5573 - acc: 0.7622 - val_loss: 0.3234 - val_acc: 0.9871\n",
      "Train on 4033 samples, validate on 853 samples\n",
      "Epoch 1/1\n",
      "4033/4033 [==============================] - 8s 2ms/step - loss: 0.5528 - acc: 0.7615 - val_loss: 0.1450 - val_acc: 0.9871\n",
      "Train on 4033 samples, validate on 853 samples\n",
      "Epoch 1/1\n",
      "4033/4033 [==============================] - 6s 1ms/step - loss: 0.6584 - acc: 0.7538 - val_loss: 0.2948 - val_acc: 0.9871\n",
      "Train on 4033 samples, validate on 853 samples\n",
      "Epoch 1/1\n",
      "4033/4033 [==============================] - 8s 2ms/step - loss: 0.6728 - acc: 0.7632 - val_loss: 0.2190 - val_acc: 0.9848\n",
      "Train on 4033 samples, validate on 853 samples\n",
      "Epoch 1/1\n",
      "4033/4033 [==============================] - 8s 2ms/step - loss: 0.6958 - acc: 0.7520 - val_loss: 0.3845 - val_acc: 0.9379\n",
      "Train on 4033 samples, validate on 853 samples\n",
      "Epoch 1/1\n",
      "4033/4033 [==============================] - 10s 2ms/step - loss: 0.7618 - acc: 0.7575 - val_loss: 0.2635 - val_acc: 0.9871\n",
      "Train on 4033 samples, validate on 853 samples\n",
      "Epoch 1/1\n",
      "4033/4033 [==============================] - 7s 2ms/step - loss: 1.3106 - acc: 0.7558 - val_loss: 0.4403 - val_acc: 0.9871\n",
      "Train on 4033 samples, validate on 853 samples\n",
      "Epoch 1/1\n",
      "4033/4033 [==============================] - 8s 2ms/step - loss: 1.5392 - acc: 0.7520 - val_loss: 0.5158 - val_acc: 0.9871\n",
      "Train on 4033 samples, validate on 853 samples\n",
      "Epoch 1/1\n",
      "4033/4033 [==============================] - 9s 2ms/step - loss: 1.6453 - acc: 0.7563 - val_loss: 0.6772 - val_acc: 0.9871\n",
      "Train on 4033 samples, validate on 853 samples\n",
      "Epoch 1/1\n",
      "4033/4033 [==============================] - 11s 3ms/step - loss: 2.0388 - acc: 0.7506 - val_loss: 0.5459 - val_acc: 0.9871\n",
      "{'epochs': 1, 'n_layer': 3, 'hidden_unti': 64, 'l2_weight': 0.0001}\n"
     ]
    }
   ],
   "source": [
    "best_params = hyperparams_search(model_func=fc_model, \n",
    "                                 input_shape=input_shape,\n",
    "                                 train_X=train_X, train_Y=train_Y, \n",
    "                                 val_X=val_X, val_Y=val_Y,\n",
    "                                 num_epoch=2000,\n",
    "                                 hidden_units=[32,64], \n",
    "                                 n_layers=[2,3], \n",
    "                                 l2_weights=[0,0.0001,0.001, 0.01],\n",
    "                                 is_verbose=0)\n",
    "print(\"\\nbest params = {0}\".format(best_params))"
   ]
  },
  {
   "cell_type": "code",
   "execution_count": 12,
   "metadata": {},
   "outputs": [
    {
     "name": "stdout",
     "output_type": "stream",
     "text": [
      "_________________________________________________________________\n",
      "Layer (type)                 Output Shape              Param #   \n",
      "=================================================================\n",
      "lstm_41 (LSTM)               (None, 15, 64)            25088     \n",
      "_________________________________________________________________\n",
      "lstm_42 (LSTM)               (None, 15, 64)            33024     \n",
      "_________________________________________________________________\n",
      "lstm_43 (LSTM)               (None, 64)                33024     \n",
      "_________________________________________________________________\n",
      "dense_17 (Dense)             (None, 1)                 65        \n",
      "=================================================================\n",
      "Total params: 91,201\n",
      "Trainable params: 91,201\n",
      "Non-trainable params: 0\n",
      "_________________________________________________________________\n",
      "None\n",
      "Train on 4033 samples, validate on 853 samples\n",
      "Epoch 1/1\n",
      "4033/4033 [==============================] - 10s 2ms/step - loss: 0.5620 - acc: 0.7570 - val_loss: 0.2087 - val_acc: 0.9871\n"
     ]
    }
   ],
   "source": [
    "#hyperparameters\n",
    "num_epoch = best_params['epochs'] \n",
    "n_layer= best_params['n_layer'] \n",
    "hidden_unit=best_params['hidden_unti']  \n",
    "l2_weight=best_params['l2_weight']\n",
    "\n",
    "model = lstm_model(hidden_unit, n_layer, l2_weight, input_shape)\n",
    "model.compile(optimizer='adam', loss='binary_crossentropy', metrics=['accuracy'])\n",
    "print(model.summary())\n",
    "\n",
    "# #fit the model\n",
    "history = model.fit(train_X, train_Y,\n",
    "                    validation_data=(val_X, val_Y),\n",
    "                    epochs=num_epoch,\n",
    "                    verbose=1)\n",
    "\n"
   ]
  },
  {
   "cell_type": "code",
   "execution_count": 13,
   "metadata": {},
   "outputs": [
    {
     "data": {
      "image/png": "[encoded data removed]",
      "text/plain": [
       "<Figure size 1050x420 with 1 Axes>"
      ]
     },
     "metadata": {
      "needs_background": "light"
     },
     "output_type": "display_data"
    }
   ],
   "source": [
    "plot_train_validation_metric(history, 'loss', 'val_loss')"
   ]
  },
  {
   "cell_type": "markdown",
   "metadata": {},
   "source": [
    "## We have 2984 positive and 984 negtive cases. "
   ]
  },
  {
   "cell_type": "code",
   "execution_count": 18,
   "metadata": {},
   "outputs": [
    {
     "name": "stdout",
     "output_type": "stream",
     "text": [
      "Counter({0.0: 3049, 1.0: 984})\n",
      "F1 score: 0.190061\n",
      "precision score: 0.668712\n",
      "recall score: 0.110772\n",
      "accuracy score: 0.769650\n",
      "matthews_corrcoef: 0.202954\n",
      "\n",
      "Confusion matrix:\n",
      "[[2995   54]\n",
      " [ 875  109]]\n"
     ]
    }
   ],
   "source": [
    "#Make predictions for train set   \n",
    "print(collections.Counter(train_Y))\n",
    "print_report_for_binary_classfier(train_Y, probs_to_binary_classes(model.predict(train_X)))"
   ]
  },
  {
   "cell_type": "code",
   "execution_count": 19,
   "metadata": {
    "scrolled": true
   },
   "outputs": [
    {
     "name": "stdout",
     "output_type": "stream",
     "text": [
      "Counter({0.0: 842, 1.0: 11})\n",
      "F1 score: 0.000000\n",
      "precision score: 0.000000\n",
      "recall score: 0.000000\n",
      "accuracy score: 0.987104\n",
      "matthews_corrcoef: 0.000000\n",
      "\n",
      "Confusion matrix:\n",
      "[[842   0]\n",
      " [ 11   0]]\n"
     ]
    }
   ],
   "source": [
    "#Make predictions from dev set\n",
    "print(collections.Counter(val_Y))\n",
    "print_report_for_binary_classfier(val_Y, probs_to_binary_classes(model.predict(val_X)))"
   ]
  },
  {
   "cell_type": "code",
   "execution_count": 20,
   "metadata": {},
   "outputs": [
    {
     "name": "stdout",
     "output_type": "stream",
     "text": [
      "Counter({0.0: 811, 1.0: 30})\n",
      "F1 score: 0.000000\n",
      "precision score: 0.000000\n",
      "recall score: 0.000000\n",
      "accuracy score: 0.964328\n",
      "matthews_corrcoef: 0.000000\n",
      "\n",
      "Confusion matrix:\n",
      "[[811   0]\n",
      " [ 30   0]]\n"
     ]
    }
   ],
   "source": [
    "#Make predictions for test set\n",
    "print(collections.Counter(test_Y))\n",
    "print_report_for_binary_classfier(test_Y, probs_to_binary_classes(model.predict(test_X)))"
   ]
  },
  {
   "cell_type": "markdown",
   "metadata": {},
   "source": [
    "# Save the best model"
   ]
  },
  {
   "cell_type": "code",
   "execution_count": 21,
   "metadata": {},
   "outputs": [],
   "source": [
    "from keras.models import load_model\n",
    "\n",
    "model.save(params.BEST_LSTM_MODEL_PATH)  # creates a HDF5 file 'my_model.h5'"
   ]
  }
 ],
 "metadata": {
  "kernelspec": {
   "display_name": "Python 3",
   "language": "python",
   "name": "python3"
  },
  "language_info": {
   "codemirror_mode": {
    "name": "ipython",
    "version": 3
   },
   "file_extension": ".py",
   "mimetype": "text/x-python",
   "name": "python",
   "nbconvert_exporter": "python",
   "pygments_lexer": "ipython3",
   "version": "3.6.8"
  }
 },
 "nbformat": 4,
 "nbformat_minor": 2
}

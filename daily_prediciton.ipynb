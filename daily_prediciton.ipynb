{
 "cells": [
  {
   "cell_type": "code",
   "execution_count": 3,
   "metadata": {},
   "outputs": [],
   "source": [
    "import pandas as pd\n",
    "import numpy as np\n",
    "from keras.models import load_model\n",
    "\n",
    "import config\n",
    "from models import params\n",
    "from models.utils.sequence_data import data_to_sequences\n",
    "from models.utils.metrics import print_predictions"
   ]
  },
  {
   "cell_type": "code",
   "execution_count": 4,
   "metadata": {},
   "outputs": [],
   "source": [
    "# models for prediction\n",
    "model_paths = [\"models/\"+params.BEST_FC_MODEL_PATH,\n",
    "               \"models/\"+params.BEST_LSTM_MODEL_PATH]\n",
    "\n",
    "dataset = pd.read_csv(config.LATEST_DATA_FOR_MODEL_PATH,\n",
    "                      header=0, parse_dates=[0], index_col=0)\n"
   ]
  },
  {
   "cell_type": "code",
   "execution_count": 7,
   "metadata": {},
   "outputs": [],
   "source": [
    "# Collect a list of models\n",
    "models = []\n",
    "for model_path in model_paths:\n",
    "    models.append(load_model(model_path))\n",
    "\n",
    "sequences = data_to_sequences(dataset.to_numpy(),\n",
    "                              params.LOOKBACK,\n",
    "                              params.STEP,\n",
    "                              range(len(dataset)-params.LAST_N_SEQUENCE, len(dataset)))\n",
    "\n",
    "assert(np.all(dataset[-params.LAST_N_SEQUENCE:].to_numpy()\n",
    "              == sequences[-1][-params.LAST_N_SEQUENCE:]))\n"
   ]
  },
  {
   "cell_type": "code",
   "execution_count": 41,
   "metadata": {},
   "outputs": [],
   "source": [
    "def print_predictions(predictions, time_indexes, last_n_sequence):\n",
    "    for i in range(len(predictions)):\n",
    "        print(\"Probability of crisis from {0} is {1}\".format(time_indexes[i-last_n_sequence], predictions[i]))\n"
   ]
  },
  {
   "cell_type": "code",
   "execution_count": 42,
   "metadata": {},
   "outputs": [
    {
     "name": "stdout",
     "output_type": "stream",
     "text": [
      "Probability of crisis from 2019-08-20 00:00:00 is [0.06150732]\n",
      "Probability of crisis from 2019-08-21 00:00:00 is [0.06913517]\n",
      "Probability of crisis from 2019-08-22 00:00:00 is [0.06557877]\n"
     ]
    }
   ],
   "source": [
    "print_predictions(model.predict(samples), dataset.index, params.LAST_N_SEQUENCE)"
   ]
  }
 ],
 "metadata": {
  "kernelspec": {
   "display_name": "Python 3",
   "language": "python",
   "name": "python3"
  },
  "language_info": {
   "codemirror_mode": {
    "name": "ipython",
    "version": 3
   },
   "file_extension": ".py",
   "mimetype": "text/x-python",
   "name": "python",
   "nbconvert_exporter": "python",
   "pygments_lexer": "ipython3",
   "version": "3.6.8"
  }
 },
 "nbformat": 4,
 "nbformat_minor": 2
}

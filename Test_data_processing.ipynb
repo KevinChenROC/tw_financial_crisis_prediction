{
 "cells": [
  {
   "cell_type": "code",
   "execution_count": 1,
   "metadata": {},
   "outputs": [],
   "source": [
    "import pandas as pd\n",
    "import numpy as np\n",
    "\n",
    "from config import *\n",
    "\n",
    "from models import params\n",
    "from models.utils.sequence_data import data_to_sequences, data_to_labels\n",
    "from data_transform.transform_raw_data import get_transformed_data "
   ]
  },
  {
   "cell_type": "code",
   "execution_count": 2,
   "metadata": {},
   "outputs": [],
   "source": [
    "# dataset = pd.read_csv(\"datasets/data_for_models/dataset_1996-01-01_2019-08-22.csv\",\n",
    "#                       header=0, parse_dates=[0], index_col=0)"
   ]
  },
  {
   "cell_type": "code",
   "execution_count": 3,
   "metadata": {},
   "outputs": [],
   "source": [
    "rand_dataset = np.random.rand(1000, 5)\n",
    "rows = range(9,12)\n",
    "rand_seqs = data_to_sequences(rand_dataset, lookback=10, step=1, rows=rows)\n",
    "\n",
    "\n",
    "rows = list(rows)\n",
    "assert(np.all(rand_dataset[0][-1] == rand_seqs[rows[0]:rows[0]+1]))\n",
    "assert(np.all(rand_dataset[-1][-1] == rand_seqs[rows[-1]:rows[-1]+1]))\n"
   ]
  },
  {
   "cell_type": "code",
   "execution_count": 18,
   "metadata": {},
   "outputs": [],
   "source": [
    "labels = np.zeros((1000,1))\n",
    "delay=10\n",
    "labels[delay-1][0]=1\n",
    "\n",
    "interval_labels = data_to_labels(labels, delay, range(0,labels.shape[0]-1), 0)\n",
    "assert(interval_labels[0] == 1)\n",
    "assert(list(interval_labels).count(1) >= delay-1)"
   ]
  },
  {
   "cell_type": "code",
   "execution_count": null,
   "metadata": {},
   "outputs": [],
   "source": []
  }
 ],
 "metadata": {
  "kernelspec": {
   "display_name": "Python 3",
   "language": "python",
   "name": "python3"
  },
  "language_info": {
   "codemirror_mode": {
    "name": "ipython",
    "version": 3
   },
   "file_extension": ".py",
   "mimetype": "text/x-python",
   "name": "python",
   "nbconvert_exporter": "python",
   "pygments_lexer": "ipython3",
   "version": "3.6.8"
  }
 },
 "nbformat": 4,
 "nbformat_minor": 2
}
